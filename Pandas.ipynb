{
 "cells": [
  {
   "cell_type": "code",
   "execution_count": 8,
   "metadata": {},
   "outputs": [
    {
     "name": "stdout",
     "output_type": "stream",
     "text": [
      "Requirement already satisfied: pandas in ./monenv/lib/python3.8/site-packages (1.1.2)\n",
      "Requirement already satisfied: pytz>=2017.2 in ./monenv/lib/python3.8/site-packages (from pandas) (2020.1)\n",
      "Requirement already satisfied: python-dateutil>=2.7.3 in ./monenv/lib/python3.8/site-packages (from pandas) (2.8.1)\n",
      "Requirement already satisfied: numpy>=1.15.4 in ./monenv/lib/python3.8/site-packages (from pandas) (1.19.2)\n",
      "Requirement already satisfied: six>=1.5 in ./monenv/lib/python3.8/site-packages (from python-dateutil>=2.7.3->pandas) (1.15.0)\n",
      "\u001b[33mWARNING: You are using pip version 20.1.1; however, version 20.2.3 is available.\n",
      "You should consider upgrading via the '/Users/lucbertin/Desktop/nouveau_projet/monenv/bin/python -m pip install --upgrade pip' command.\u001b[0m\n"
     ]
    }
   ],
   "source": [
    "!pip install pandas"
   ]
  },
  {
   "cell_type": "code",
   "execution_count": 4,
   "metadata": {},
   "outputs": [],
   "source": [
    "import pandas as pd"
   ]
  },
  {
   "cell_type": "markdown",
   "metadata": {},
   "source": [
    "# dans Pandas : Series, Index, DataFrame"
   ]
  },
  {
   "cell_type": "markdown",
   "metadata": {},
   "source": [
    "### Series"
   ]
  },
  {
   "cell_type": "markdown",
   "metadata": {},
   "source": [
    "one-dimensional array (comme un tableau à 1dimension<=> une liste 1 dimension) of indexed data"
   ]
  },
  {
   "cell_type": "code",
   "execution_count": 14,
   "metadata": {},
   "outputs": [
    {
     "data": {
      "text/plain": [
       "0       Julie\n",
       "1        René\n",
       "2    Corentin\n",
       "3      Julien\n",
       "dtype: object"
      ]
     },
     "execution_count": 14,
     "metadata": {},
     "output_type": "execute_result"
    }
   ],
   "source": [
    "pd.Series([\"Julie\", \"René\", \"Corentin\", \"Julien\"], index=range(0,4))"
   ]
  },
  {
   "cell_type": "code",
   "execution_count": 11,
   "metadata": {},
   "outputs": [],
   "source": [
    "serie = pd.Series([\"Julie\", \"René\", \"Corentin\", \"Julien\"], \n",
    "          index=[\"etudiant1\", \"etudiant2\", \"etudiant3\", \"etudiant4\"])"
   ]
  },
  {
   "cell_type": "code",
   "execution_count": 12,
   "metadata": {},
   "outputs": [
    {
     "data": {
      "text/plain": [
       "etudiant1       Julie\n",
       "etudiant2        René\n",
       "etudiant3    Corentin\n",
       "etudiant4      Julien\n",
       "dtype: object"
      ]
     },
     "execution_count": 12,
     "metadata": {},
     "output_type": "execute_result"
    }
   ],
   "source": [
    "serie"
   ]
  },
  {
   "cell_type": "markdown",
   "metadata": {},
   "source": [
    "Une Series va etre l'élément constitutif d'une dataframe"
   ]
  },
  {
   "cell_type": "markdown",
   "metadata": {},
   "source": [
    "Une Series c'est une colonne (avec un index)"
   ]
  },
  {
   "cell_type": "code",
   "execution_count": 13,
   "metadata": {},
   "outputs": [
    {
     "data": {
      "text/plain": [
       "Index(['etudiant1', 'etudiant2', 'etudiant3', 'etudiant4'], dtype='object')"
      ]
     },
     "execution_count": 13,
     "metadata": {},
     "output_type": "execute_result"
    }
   ],
   "source": [
    "serie.index"
   ]
  },
  {
   "cell_type": "markdown",
   "metadata": {},
   "source": [
    "### une serie peut etre vue comme un dictionnaire "
   ]
  },
  {
   "cell_type": "markdown",
   "metadata": {},
   "source": [
    "* récupérer une valeur à partir d'une <strike> clé </strike> un index"
   ]
  },
  {
   "cell_type": "code",
   "execution_count": 15,
   "metadata": {},
   "outputs": [
    {
     "data": {
      "text/plain": [
       "'René'"
      ]
     },
     "execution_count": 15,
     "metadata": {},
     "output_type": "execute_result"
    }
   ],
   "source": [
    "serie[\"etudiant2\"]"
   ]
  },
  {
   "cell_type": "markdown",
   "metadata": {},
   "source": [
    "* modifier une valeur à partir de sa <strike> clé</strike> index"
   ]
  },
  {
   "cell_type": "code",
   "execution_count": 16,
   "metadata": {},
   "outputs": [],
   "source": [
    "serie[\"etudiant2\"] = \"Martin\""
   ]
  },
  {
   "cell_type": "code",
   "execution_count": 17,
   "metadata": {},
   "outputs": [
    {
     "data": {
      "text/plain": [
       "etudiant1       Julie\n",
       "etudiant2      Martin\n",
       "etudiant3    Corentin\n",
       "etudiant4      Julien\n",
       "dtype: object"
      ]
     },
     "execution_count": 17,
     "metadata": {},
     "output_type": "execute_result"
    }
   ],
   "source": [
    "serie"
   ]
  },
  {
   "cell_type": "markdown",
   "metadata": {},
   "source": [
    "* créer une nouvelle paire index:valeur"
   ]
  },
  {
   "cell_type": "code",
   "execution_count": 18,
   "metadata": {},
   "outputs": [],
   "source": [
    "serie[\"etudiant5\"] = \"Thibault\""
   ]
  },
  {
   "cell_type": "code",
   "execution_count": 19,
   "metadata": {},
   "outputs": [
    {
     "data": {
      "text/plain": [
       "etudiant1       Julie\n",
       "etudiant2      Martin\n",
       "etudiant3    Corentin\n",
       "etudiant4      Julien\n",
       "etudiant5    Thibault\n",
       "dtype: object"
      ]
     },
     "execution_count": 19,
     "metadata": {},
     "output_type": "execute_result"
    }
   ],
   "source": [
    "serie"
   ]
  },
  {
   "cell_type": "markdown",
   "metadata": {},
   "source": [
    "* supprimer une index:valeur"
   ]
  },
  {
   "cell_type": "code",
   "execution_count": 20,
   "metadata": {},
   "outputs": [],
   "source": [
    "del serie[\"etudiant5\"]"
   ]
  },
  {
   "cell_type": "code",
   "execution_count": 21,
   "metadata": {},
   "outputs": [
    {
     "data": {
      "text/plain": [
       "etudiant1       Julie\n",
       "etudiant2      Martin\n",
       "etudiant3    Corentin\n",
       "etudiant4      Julien\n",
       "dtype: object"
      ]
     },
     "execution_count": 21,
     "metadata": {},
     "output_type": "execute_result"
    }
   ],
   "source": [
    "serie"
   ]
  },
  {
   "cell_type": "code",
   "execution_count": 25,
   "metadata": {},
   "outputs": [
    {
     "data": {
      "text/plain": [
       "False"
      ]
     },
     "execution_count": 25,
     "metadata": {},
     "output_type": "execute_result"
    }
   ],
   "source": [
    "\"René\" in serie.values"
   ]
  },
  {
   "cell_type": "code",
   "execution_count": 26,
   "metadata": {},
   "outputs": [
    {
     "data": {
      "text/plain": [
       "True"
      ]
     },
     "execution_count": 26,
     "metadata": {},
     "output_type": "execute_result"
    }
   ],
   "source": [
    "\"Julie\" in serie.values"
   ]
  },
  {
   "cell_type": "code",
   "execution_count": 27,
   "metadata": {},
   "outputs": [
    {
     "data": {
      "text/plain": [
       "True"
      ]
     },
     "execution_count": 27,
     "metadata": {},
     "output_type": "execute_result"
    }
   ],
   "source": [
    "\"etudiant2\" in serie # 0(1) iif index unique (hash.... hash table)"
   ]
  },
  {
   "cell_type": "code",
   "execution_count": 28,
   "metadata": {},
   "outputs": [
    {
     "data": {
      "text/plain": [
       "array(['Julie', 'Martin', 'Corentin', 'Julien'], dtype=object)"
      ]
     },
     "execution_count": 28,
     "metadata": {},
     "output_type": "execute_result"
    }
   ],
   "source": [
    "serie.values"
   ]
  },
  {
   "cell_type": "markdown",
   "metadata": {},
   "source": [
    "## par rapport à un dictionnaire"
   ]
  },
  {
   "cell_type": "code",
   "execution_count": 32,
   "metadata": {},
   "outputs": [],
   "source": [
    "serie = pd.Series([\"Julie\", \"René\", \"Julie\", \"Corentin\", \"Julien\"], \n",
    "          index=[\"etudiant1\", \"etudiant2\", \"etudiant2\", \"etudiant4\", \"etudiant5\"])"
   ]
  },
  {
   "cell_type": "code",
   "execution_count": 33,
   "metadata": {},
   "outputs": [
    {
     "data": {
      "text/plain": [
       "etudiant1       Julie\n",
       "etudiant2        René\n",
       "etudiant2       Julie\n",
       "etudiant4    Corentin\n",
       "etudiant5      Julien\n",
       "dtype: object"
      ]
     },
     "execution_count": 33,
     "metadata": {},
     "output_type": "execute_result"
    }
   ],
   "source": [
    "serie # multiplicité des clés"
   ]
  },
  {
   "cell_type": "code",
   "execution_count": 34,
   "metadata": {},
   "outputs": [
    {
     "data": {
      "text/plain": [
       "etudiant2     René\n",
       "etudiant2    Julie\n",
       "dtype: object"
      ]
     },
     "execution_count": 34,
     "metadata": {},
     "output_type": "execute_result"
    }
   ],
   "source": [
    "serie[\"etudiant2\"]"
   ]
  },
  {
   "cell_type": "code",
   "execution_count": 38,
   "metadata": {},
   "outputs": [],
   "source": [
    "serie2 = pd.Series( {\"Julie\": \"+378947894\", \"Julien\":\"+8498944\", \"Martin\":\"+387373\"},\n",
    "                  index=[\"Martin\", \"Julien\"]) # filter simplement si la serie comporte les index"
   ]
  },
  {
   "cell_type": "code",
   "execution_count": 39,
   "metadata": {},
   "outputs": [
    {
     "data": {
      "text/plain": [
       "Martin     +387373\n",
       "Julien    +8498944\n",
       "dtype: object"
      ]
     },
     "execution_count": 39,
     "metadata": {},
     "output_type": "execute_result"
    }
   ],
   "source": [
    "serie2"
   ]
  },
  {
   "cell_type": "markdown",
   "metadata": {},
   "source": [
    "### slicer et indexer une pd.Series"
   ]
  },
  {
   "cell_type": "markdown",
   "metadata": {},
   "source": [
    "## masking"
   ]
  },
  {
   "cell_type": "code",
   "execution_count": 43,
   "metadata": {},
   "outputs": [],
   "source": [
    "serie3 = pd.Series( {\"Julien\": 18, \"Martin\": 25, \"Sebastien\":34})"
   ]
  },
  {
   "cell_type": "code",
   "execution_count": 46,
   "metadata": {},
   "outputs": [
    {
     "data": {
      "text/plain": [
       "Julien       False\n",
       "Martin        True\n",
       "Sebastien     True\n",
       "dtype: bool"
      ]
     },
     "execution_count": 46,
     "metadata": {},
     "output_type": "execute_result"
    }
   ],
   "source": [
    "serie3 >19 #mask = un array de booléens # element wise la condition"
   ]
  },
  {
   "cell_type": "code",
   "execution_count": 50,
   "metadata": {},
   "outputs": [],
   "source": [
    "est_majeur_mais_pas_trop_vieux = (serie3 >19) & (serie3 <34)   # and: if x>2 and x<4"
   ]
  },
  {
   "cell_type": "code",
   "execution_count": 52,
   "metadata": {},
   "outputs": [
    {
     "data": {
      "text/plain": [
       "Julien       False\n",
       "Martin        True\n",
       "Sebastien    False\n",
       "dtype: bool"
      ]
     },
     "execution_count": 52,
     "metadata": {},
     "output_type": "execute_result"
    }
   ],
   "source": [
    "est_majeur_mais_pas_trop_vieux"
   ]
  },
  {
   "cell_type": "code",
   "execution_count": 53,
   "metadata": {},
   "outputs": [
    {
     "data": {
      "text/plain": [
       "Martin    25\n",
       "dtype: int64"
      ]
     },
     "execution_count": 53,
     "metadata": {},
     "output_type": "execute_result"
    }
   ],
   "source": [
    "serie3[ (serie3>19) & (serie3< 34)]"
   ]
  },
  {
   "cell_type": "markdown",
   "metadata": {},
   "source": [
    "## fancy indexing"
   ]
  },
  {
   "cell_type": "markdown",
   "metadata": {},
   "source": [
    "faire passer une **liste** d'indexs dans la Series pour les récuperer"
   ]
  },
  {
   "cell_type": "code",
   "execution_count": 55,
   "metadata": {},
   "outputs": [
    {
     "data": {
      "text/plain": [
       "Julien       18\n",
       "Martin       25\n",
       "Sebastien    34\n",
       "dtype: int64"
      ]
     },
     "execution_count": 55,
     "metadata": {},
     "output_type": "execute_result"
    }
   ],
   "source": [
    "serie3"
   ]
  },
  {
   "cell_type": "code",
   "execution_count": 54,
   "metadata": {},
   "outputs": [
    {
     "data": {
      "text/plain": [
       "Julien    18\n",
       "Martin    25\n",
       "dtype: int64"
      ]
     },
     "execution_count": 54,
     "metadata": {},
     "output_type": "execute_result"
    }
   ],
   "source": [
    "serie3[  [\"Julien\", \"Martin\"]   ]"
   ]
  },
  {
   "cell_type": "markdown",
   "metadata": {},
   "source": [
    "## LOC et ILOC"
   ]
  },
  {
   "cell_type": "code",
   "execution_count": 75,
   "metadata": {},
   "outputs": [
    {
     "data": {
      "text/plain": [
       "Julien       18\n",
       "Martin       25\n",
       "Sebastien    34\n",
       "dtype: int64"
      ]
     },
     "execution_count": 75,
     "metadata": {},
     "output_type": "execute_result"
    }
   ],
   "source": [
    "serie3"
   ]
  },
  {
   "cell_type": "code",
   "execution_count": 58,
   "metadata": {},
   "outputs": [
    {
     "data": {
      "text/plain": [
       "Martin       25\n",
       "Sebastien    34\n",
       "dtype: int64"
      ]
     },
     "execution_count": 58,
     "metadata": {},
     "output_type": "execute_result"
    }
   ],
   "source": [
    "serie3.loc[[\"Martin\", \"Sebastien\"]]"
   ]
  },
  {
   "cell_type": "code",
   "execution_count": 62,
   "metadata": {},
   "outputs": [
    {
     "data": {
      "text/plain": [
       "Martin       25\n",
       "Sebastien    34\n",
       "dtype: int64"
      ]
     },
     "execution_count": 62,
     "metadata": {},
     "output_type": "execute_result"
    }
   ],
   "source": [
    "serie3.loc[\"Martin\":\"Sebastien\"] # seb inclus !!!"
   ]
  },
  {
   "cell_type": "code",
   "execution_count": 74,
   "metadata": {},
   "outputs": [
    {
     "data": {
      "text/plain": [
       "Julien    18\n",
       "dtype: int64"
      ]
     },
     "execution_count": 74,
     "metadata": {},
     "output_type": "execute_result"
    }
   ],
   "source": [
    "serie3.iloc[0:1] # element numero1 (0-indexed) exclus !!!"
   ]
  },
  {
   "cell_type": "code",
   "execution_count": 76,
   "metadata": {},
   "outputs": [],
   "source": [
    "serie4 = pd.Series({1:25, 3:48, 4:58, 5:67})"
   ]
  },
  {
   "cell_type": "code",
   "execution_count": 77,
   "metadata": {},
   "outputs": [
    {
     "data": {
      "text/plain": [
       "1    25\n",
       "3    48\n",
       "4    58\n",
       "5    67\n",
       "dtype: int64"
      ]
     },
     "execution_count": 77,
     "metadata": {},
     "output_type": "execute_result"
    }
   ],
   "source": [
    "serie4"
   ]
  },
  {
   "cell_type": "code",
   "execution_count": 71,
   "metadata": {},
   "outputs": [
    {
     "data": {
      "text/plain": [
       "3    48\n",
       "4    58\n",
       "dtype: int64"
      ]
     },
     "execution_count": 71,
     "metadata": {},
     "output_type": "execute_result"
    }
   ],
   "source": [
    "serie4.iloc[1:3] # bien exclus !!!"
   ]
  },
  {
   "cell_type": "code",
   "execution_count": 70,
   "metadata": {},
   "outputs": [
    {
     "data": {
      "text/plain": [
       "1    25\n",
       "3    48\n",
       "dtype: int64"
      ]
     },
     "execution_count": 70,
     "metadata": {},
     "output_type": "execute_result"
    }
   ],
   "source": [
    "serie4.loc[1:3] # inclus !!!"
   ]
  },
  {
   "cell_type": "code",
   "execution_count": 78,
   "metadata": {},
   "outputs": [
    {
     "data": {
      "text/plain": [
       "3    48\n",
       "4    58\n",
       "dtype: int64"
      ]
     },
     "execution_count": 78,
     "metadata": {},
     "output_type": "execute_result"
    }
   ],
   "source": [
    "serie4.iloc[[1,2]] # fancy indexing"
   ]
  },
  {
   "cell_type": "code",
   "execution_count": 80,
   "metadata": {},
   "outputs": [
    {
     "data": {
      "text/plain": [
       "1    25\n",
       "3    48\n",
       "dtype: int64"
      ]
     },
     "execution_count": 80,
     "metadata": {},
     "output_type": "execute_result"
    }
   ],
   "source": [
    "serie4.loc[[1,3]]"
   ]
  },
  {
   "cell_type": "markdown",
   "metadata": {},
   "source": [
    "## DataFrame"
   ]
  },
  {
   "cell_type": "markdown",
   "metadata": {},
   "source": [
    "* sequence de Series \"alignés\"\n",
    "* chaque Series est une colonne\n",
    "* pd.DataFrame() est le constructeur de ma classe pd.DataFrame\n",
    "* INdex sur les Rows, un index sur les colonnes\n",
    "* ressemble à une table SQL ou un Excel"
   ]
  },
  {
   "cell_type": "markdown",
   "metadata": {},
   "source": [
    "#### pd.DataFrame comme un dictionnaire de Series"
   ]
  },
  {
   "cell_type": "code",
   "execution_count": 187,
   "metadata": {},
   "outputs": [],
   "source": [
    "serie1 =  pd.Series([18, 25, 86, 45, 36], \n",
    "                    index=[\"etudiant1\", \"etudiant2\", \"etudiant3\", \"etudiant4\", \"etudiant5\"])\n",
    "serie2 =  pd.Series([\"Julien\", \"Luc\", \"Corentin\",\"Julie\", \"Seb\"], \n",
    "                    index=[\"etudiant1\", \"etudiant3\", \"etudiant2\", \"etudiant28\", \"etudiant49\"])"
   ]
  },
  {
   "cell_type": "code",
   "execution_count": 229,
   "metadata": {},
   "outputs": [],
   "source": [
    "df = pd.DataFrame(  { \"age\": serie1, \"nom\": serie2 }  )"
   ]
  },
  {
   "cell_type": "code",
   "execution_count": 161,
   "metadata": {},
   "outputs": [
    {
     "data": {
      "text/html": [
       "<div>\n",
       "<style scoped>\n",
       "    .dataframe tbody tr th:only-of-type {\n",
       "        vertical-align: middle;\n",
       "    }\n",
       "\n",
       "    .dataframe tbody tr th {\n",
       "        vertical-align: top;\n",
       "    }\n",
       "\n",
       "    .dataframe thead th {\n",
       "        text-align: right;\n",
       "    }\n",
       "</style>\n",
       "<table border=\"1\" class=\"dataframe\">\n",
       "  <thead>\n",
       "    <tr style=\"text-align: right;\">\n",
       "      <th></th>\n",
       "      <th>age</th>\n",
       "      <th>nom</th>\n",
       "    </tr>\n",
       "  </thead>\n",
       "  <tbody>\n",
       "    <tr>\n",
       "      <th>etudiant1</th>\n",
       "      <td>18.0</td>\n",
       "      <td>Julien</td>\n",
       "    </tr>\n",
       "    <tr>\n",
       "      <th>etudiant2</th>\n",
       "      <td>25.0</td>\n",
       "      <td>Corentin</td>\n",
       "    </tr>\n",
       "    <tr>\n",
       "      <th>etudiant28</th>\n",
       "      <td>NaN</td>\n",
       "      <td>Julie</td>\n",
       "    </tr>\n",
       "    <tr>\n",
       "      <th>etudiant3</th>\n",
       "      <td>86.0</td>\n",
       "      <td>Luc</td>\n",
       "    </tr>\n",
       "    <tr>\n",
       "      <th>etudiant4</th>\n",
       "      <td>45.0</td>\n",
       "      <td>NaN</td>\n",
       "    </tr>\n",
       "    <tr>\n",
       "      <th>etudiant49</th>\n",
       "      <td>NaN</td>\n",
       "      <td>Seb</td>\n",
       "    </tr>\n",
       "    <tr>\n",
       "      <th>etudiant5</th>\n",
       "      <td>36.0</td>\n",
       "      <td>NaN</td>\n",
       "    </tr>\n",
       "  </tbody>\n",
       "</table>\n",
       "</div>"
      ],
      "text/plain": [
       "             age       nom\n",
       "etudiant1   18.0    Julien\n",
       "etudiant2   25.0  Corentin\n",
       "etudiant28   NaN     Julie\n",
       "etudiant3   86.0       Luc\n",
       "etudiant4   45.0       NaN\n",
       "etudiant49   NaN       Seb\n",
       "etudiant5   36.0       NaN"
      ]
     },
     "execution_count": 161,
     "metadata": {},
     "output_type": "execute_result"
    }
   ],
   "source": [
    "df"
   ]
  },
  {
   "cell_type": "code",
   "execution_count": 91,
   "metadata": {},
   "outputs": [
    {
     "data": {
      "text/plain": [
       "(Index(['age', 'nom'], dtype='object'), RangeIndex(start=0, stop=5, step=1))"
      ]
     },
     "execution_count": 91,
     "metadata": {},
     "output_type": "execute_result"
    }
   ],
   "source": [
    "df.columns, df.index"
   ]
  },
  {
   "cell_type": "code",
   "execution_count": 103,
   "metadata": {},
   "outputs": [
    {
     "data": {
      "text/plain": [
       "(7, 2)"
      ]
     },
     "execution_count": 103,
     "metadata": {},
     "output_type": "execute_result"
    }
   ],
   "source": [
    "df.shape"
   ]
  },
  {
   "cell_type": "markdown",
   "metadata": {},
   "source": [
    "1ere dimension: les lignes"
   ]
  },
  {
   "cell_type": "markdown",
   "metadata": {},
   "source": [
    "2eme dimension: les colonnes"
   ]
  },
  {
   "cell_type": "markdown",
   "metadata": {},
   "source": [
    "## accès à une colonne"
   ]
  },
  {
   "cell_type": "code",
   "execution_count": 104,
   "metadata": {},
   "outputs": [
    {
     "data": {
      "text/plain": [
       "etudiant1     18.0\n",
       "etudiant2     25.0\n",
       "etudiant28     NaN\n",
       "etudiant3     86.0\n",
       "etudiant4     45.0\n",
       "etudiant49     NaN\n",
       "etudiant5     36.0\n",
       "Name: age, dtype: float64"
      ]
     },
     "execution_count": 104,
     "metadata": {},
     "output_type": "execute_result"
    }
   ],
   "source": [
    "df[\"age\"]"
   ]
  },
  {
   "cell_type": "code",
   "execution_count": 110,
   "metadata": {},
   "outputs": [],
   "source": [
    "df[\"nombre_enfants\"] = 2"
   ]
  },
  {
   "cell_type": "code",
   "execution_count": 111,
   "metadata": {},
   "outputs": [
    {
     "data": {
      "text/html": [
       "<div>\n",
       "<style scoped>\n",
       "    .dataframe tbody tr th:only-of-type {\n",
       "        vertical-align: middle;\n",
       "    }\n",
       "\n",
       "    .dataframe tbody tr th {\n",
       "        vertical-align: top;\n",
       "    }\n",
       "\n",
       "    .dataframe thead th {\n",
       "        text-align: right;\n",
       "    }\n",
       "</style>\n",
       "<table border=\"1\" class=\"dataframe\">\n",
       "  <thead>\n",
       "    <tr style=\"text-align: right;\">\n",
       "      <th></th>\n",
       "      <th>age</th>\n",
       "      <th>nom</th>\n",
       "      <th>nombre_enfants</th>\n",
       "    </tr>\n",
       "  </thead>\n",
       "  <tbody>\n",
       "    <tr>\n",
       "      <th>etudiant1</th>\n",
       "      <td>18.0</td>\n",
       "      <td>Julien</td>\n",
       "      <td>2</td>\n",
       "    </tr>\n",
       "    <tr>\n",
       "      <th>etudiant2</th>\n",
       "      <td>25.0</td>\n",
       "      <td>Corentin</td>\n",
       "      <td>2</td>\n",
       "    </tr>\n",
       "    <tr>\n",
       "      <th>etudiant28</th>\n",
       "      <td>NaN</td>\n",
       "      <td>Julie</td>\n",
       "      <td>2</td>\n",
       "    </tr>\n",
       "    <tr>\n",
       "      <th>etudiant3</th>\n",
       "      <td>86.0</td>\n",
       "      <td>Luc</td>\n",
       "      <td>2</td>\n",
       "    </tr>\n",
       "    <tr>\n",
       "      <th>etudiant4</th>\n",
       "      <td>45.0</td>\n",
       "      <td>NaN</td>\n",
       "      <td>2</td>\n",
       "    </tr>\n",
       "    <tr>\n",
       "      <th>etudiant49</th>\n",
       "      <td>NaN</td>\n",
       "      <td>Seb</td>\n",
       "      <td>2</td>\n",
       "    </tr>\n",
       "    <tr>\n",
       "      <th>etudiant5</th>\n",
       "      <td>36.0</td>\n",
       "      <td>NaN</td>\n",
       "      <td>2</td>\n",
       "    </tr>\n",
       "  </tbody>\n",
       "</table>\n",
       "</div>"
      ],
      "text/plain": [
       "             age       nom  nombre_enfants\n",
       "etudiant1   18.0    Julien               2\n",
       "etudiant2   25.0  Corentin               2\n",
       "etudiant28   NaN     Julie               2\n",
       "etudiant3   86.0       Luc               2\n",
       "etudiant4   45.0       NaN               2\n",
       "etudiant49   NaN       Seb               2\n",
       "etudiant5   36.0       NaN               2"
      ]
     },
     "execution_count": 111,
     "metadata": {},
     "output_type": "execute_result"
    }
   ],
   "source": [
    "df"
   ]
  },
  {
   "cell_type": "code",
   "execution_count": 112,
   "metadata": {},
   "outputs": [],
   "source": [
    "import numpy as np"
   ]
  },
  {
   "cell_type": "code",
   "execution_count": 113,
   "metadata": {},
   "outputs": [],
   "source": [
    "df[\"nombre_enfants\"] = np.exp(df[\"nombre_enfants\"])"
   ]
  },
  {
   "cell_type": "code",
   "execution_count": 114,
   "metadata": {},
   "outputs": [
    {
     "data": {
      "text/html": [
       "<div>\n",
       "<style scoped>\n",
       "    .dataframe tbody tr th:only-of-type {\n",
       "        vertical-align: middle;\n",
       "    }\n",
       "\n",
       "    .dataframe tbody tr th {\n",
       "        vertical-align: top;\n",
       "    }\n",
       "\n",
       "    .dataframe thead th {\n",
       "        text-align: right;\n",
       "    }\n",
       "</style>\n",
       "<table border=\"1\" class=\"dataframe\">\n",
       "  <thead>\n",
       "    <tr style=\"text-align: right;\">\n",
       "      <th></th>\n",
       "      <th>age</th>\n",
       "      <th>nom</th>\n",
       "      <th>nombre_enfants</th>\n",
       "    </tr>\n",
       "  </thead>\n",
       "  <tbody>\n",
       "    <tr>\n",
       "      <th>etudiant1</th>\n",
       "      <td>18.0</td>\n",
       "      <td>Julien</td>\n",
       "      <td>7.389056</td>\n",
       "    </tr>\n",
       "    <tr>\n",
       "      <th>etudiant2</th>\n",
       "      <td>25.0</td>\n",
       "      <td>Corentin</td>\n",
       "      <td>7.389056</td>\n",
       "    </tr>\n",
       "    <tr>\n",
       "      <th>etudiant28</th>\n",
       "      <td>NaN</td>\n",
       "      <td>Julie</td>\n",
       "      <td>7.389056</td>\n",
       "    </tr>\n",
       "    <tr>\n",
       "      <th>etudiant3</th>\n",
       "      <td>86.0</td>\n",
       "      <td>Luc</td>\n",
       "      <td>7.389056</td>\n",
       "    </tr>\n",
       "    <tr>\n",
       "      <th>etudiant4</th>\n",
       "      <td>45.0</td>\n",
       "      <td>NaN</td>\n",
       "      <td>7.389056</td>\n",
       "    </tr>\n",
       "    <tr>\n",
       "      <th>etudiant49</th>\n",
       "      <td>NaN</td>\n",
       "      <td>Seb</td>\n",
       "      <td>7.389056</td>\n",
       "    </tr>\n",
       "    <tr>\n",
       "      <th>etudiant5</th>\n",
       "      <td>36.0</td>\n",
       "      <td>NaN</td>\n",
       "      <td>7.389056</td>\n",
       "    </tr>\n",
       "  </tbody>\n",
       "</table>\n",
       "</div>"
      ],
      "text/plain": [
       "             age       nom  nombre_enfants\n",
       "etudiant1   18.0    Julien        7.389056\n",
       "etudiant2   25.0  Corentin        7.389056\n",
       "etudiant28   NaN     Julie        7.389056\n",
       "etudiant3   86.0       Luc        7.389056\n",
       "etudiant4   45.0       NaN        7.389056\n",
       "etudiant49   NaN       Seb        7.389056\n",
       "etudiant5   36.0       NaN        7.389056"
      ]
     },
     "execution_count": 114,
     "metadata": {},
     "output_type": "execute_result"
    }
   ],
   "source": [
    "df"
   ]
  },
  {
   "cell_type": "code",
   "execution_count": 123,
   "metadata": {},
   "outputs": [],
   "source": [
    "df2 = pd.DataFrame({ \"age\": [12,14], \"nombre_enfants\": pd.Series([34, 62], index=[\"etudiant1\", \"etudiant49\"])})"
   ]
  },
  {
   "cell_type": "code",
   "execution_count": 124,
   "metadata": {},
   "outputs": [
    {
     "data": {
      "text/html": [
       "<div>\n",
       "<style scoped>\n",
       "    .dataframe tbody tr th:only-of-type {\n",
       "        vertical-align: middle;\n",
       "    }\n",
       "\n",
       "    .dataframe tbody tr th {\n",
       "        vertical-align: top;\n",
       "    }\n",
       "\n",
       "    .dataframe thead th {\n",
       "        text-align: right;\n",
       "    }\n",
       "</style>\n",
       "<table border=\"1\" class=\"dataframe\">\n",
       "  <thead>\n",
       "    <tr style=\"text-align: right;\">\n",
       "      <th></th>\n",
       "      <th>age</th>\n",
       "      <th>nombre_enfants</th>\n",
       "    </tr>\n",
       "  </thead>\n",
       "  <tbody>\n",
       "    <tr>\n",
       "      <th>etudiant1</th>\n",
       "      <td>12</td>\n",
       "      <td>34</td>\n",
       "    </tr>\n",
       "    <tr>\n",
       "      <th>etudiant49</th>\n",
       "      <td>14</td>\n",
       "      <td>62</td>\n",
       "    </tr>\n",
       "  </tbody>\n",
       "</table>\n",
       "</div>"
      ],
      "text/plain": [
       "            age  nombre_enfants\n",
       "etudiant1    12              34\n",
       "etudiant49   14              62"
      ]
     },
     "execution_count": 124,
     "metadata": {},
     "output_type": "execute_result"
    }
   ],
   "source": [
    "df2"
   ]
  },
  {
   "cell_type": "code",
   "execution_count": 125,
   "metadata": {},
   "outputs": [
    {
     "data": {
      "text/html": [
       "<div>\n",
       "<style scoped>\n",
       "    .dataframe tbody tr th:only-of-type {\n",
       "        vertical-align: middle;\n",
       "    }\n",
       "\n",
       "    .dataframe tbody tr th {\n",
       "        vertical-align: top;\n",
       "    }\n",
       "\n",
       "    .dataframe thead th {\n",
       "        text-align: right;\n",
       "    }\n",
       "</style>\n",
       "<table border=\"1\" class=\"dataframe\">\n",
       "  <thead>\n",
       "    <tr style=\"text-align: right;\">\n",
       "      <th></th>\n",
       "      <th>age</th>\n",
       "      <th>nom</th>\n",
       "      <th>nombre_enfants</th>\n",
       "    </tr>\n",
       "  </thead>\n",
       "  <tbody>\n",
       "    <tr>\n",
       "      <th>etudiant1</th>\n",
       "      <td>30.0</td>\n",
       "      <td>NaN</td>\n",
       "      <td>41.389056</td>\n",
       "    </tr>\n",
       "    <tr>\n",
       "      <th>etudiant2</th>\n",
       "      <td>NaN</td>\n",
       "      <td>NaN</td>\n",
       "      <td>NaN</td>\n",
       "    </tr>\n",
       "    <tr>\n",
       "      <th>etudiant28</th>\n",
       "      <td>NaN</td>\n",
       "      <td>NaN</td>\n",
       "      <td>NaN</td>\n",
       "    </tr>\n",
       "    <tr>\n",
       "      <th>etudiant3</th>\n",
       "      <td>NaN</td>\n",
       "      <td>NaN</td>\n",
       "      <td>NaN</td>\n",
       "    </tr>\n",
       "    <tr>\n",
       "      <th>etudiant4</th>\n",
       "      <td>NaN</td>\n",
       "      <td>NaN</td>\n",
       "      <td>NaN</td>\n",
       "    </tr>\n",
       "    <tr>\n",
       "      <th>etudiant49</th>\n",
       "      <td>NaN</td>\n",
       "      <td>NaN</td>\n",
       "      <td>69.389056</td>\n",
       "    </tr>\n",
       "    <tr>\n",
       "      <th>etudiant5</th>\n",
       "      <td>NaN</td>\n",
       "      <td>NaN</td>\n",
       "      <td>NaN</td>\n",
       "    </tr>\n",
       "  </tbody>\n",
       "</table>\n",
       "</div>"
      ],
      "text/plain": [
       "             age  nom  nombre_enfants\n",
       "etudiant1   30.0  NaN       41.389056\n",
       "etudiant2    NaN  NaN             NaN\n",
       "etudiant28   NaN  NaN             NaN\n",
       "etudiant3    NaN  NaN             NaN\n",
       "etudiant4    NaN  NaN             NaN\n",
       "etudiant49   NaN  NaN       69.389056\n",
       "etudiant5    NaN  NaN             NaN"
      ]
     },
     "execution_count": 125,
     "metadata": {},
     "output_type": "execute_result"
    }
   ],
   "source": [
    "df+df2"
   ]
  },
  {
   "cell_type": "code",
   "execution_count": 129,
   "metadata": {},
   "outputs": [
    {
     "data": {
      "text/plain": [
       "nan"
      ]
     },
     "execution_count": 129,
     "metadata": {},
     "output_type": "execute_result"
    }
   ],
   "source": [
    "np.NaN / 25"
   ]
  },
  {
   "cell_type": "code",
   "execution_count": 132,
   "metadata": {},
   "outputs": [],
   "source": [
    "df = pd.DataFrame(np.random.randint(0, 10, (3, 4)))"
   ]
  },
  {
   "cell_type": "code",
   "execution_count": 133,
   "metadata": {},
   "outputs": [],
   "source": [
    "df2 = pd.DataFrame(np.random.randint(0, 10, (3, 4)))"
   ]
  },
  {
   "cell_type": "code",
   "execution_count": 134,
   "metadata": {},
   "outputs": [
    {
     "data": {
      "text/html": [
       "<div>\n",
       "<style scoped>\n",
       "    .dataframe tbody tr th:only-of-type {\n",
       "        vertical-align: middle;\n",
       "    }\n",
       "\n",
       "    .dataframe tbody tr th {\n",
       "        vertical-align: top;\n",
       "    }\n",
       "\n",
       "    .dataframe thead th {\n",
       "        text-align: right;\n",
       "    }\n",
       "</style>\n",
       "<table border=\"1\" class=\"dataframe\">\n",
       "  <thead>\n",
       "    <tr style=\"text-align: right;\">\n",
       "      <th></th>\n",
       "      <th>0</th>\n",
       "      <th>1</th>\n",
       "      <th>2</th>\n",
       "      <th>3</th>\n",
       "    </tr>\n",
       "  </thead>\n",
       "  <tbody>\n",
       "    <tr>\n",
       "      <th>0</th>\n",
       "      <td>0</td>\n",
       "      <td>8</td>\n",
       "      <td>9</td>\n",
       "      <td>1</td>\n",
       "    </tr>\n",
       "    <tr>\n",
       "      <th>1</th>\n",
       "      <td>9</td>\n",
       "      <td>8</td>\n",
       "      <td>3</td>\n",
       "      <td>1</td>\n",
       "    </tr>\n",
       "    <tr>\n",
       "      <th>2</th>\n",
       "      <td>0</td>\n",
       "      <td>1</td>\n",
       "      <td>9</td>\n",
       "      <td>8</td>\n",
       "    </tr>\n",
       "  </tbody>\n",
       "</table>\n",
       "</div>"
      ],
      "text/plain": [
       "   0  1  2  3\n",
       "0  0  8  9  1\n",
       "1  9  8  3  1\n",
       "2  0  1  9  8"
      ]
     },
     "execution_count": 134,
     "metadata": {},
     "output_type": "execute_result"
    }
   ],
   "source": [
    "df"
   ]
  },
  {
   "cell_type": "code",
   "execution_count": 144,
   "metadata": {},
   "outputs": [
    {
     "data": {
      "text/html": [
       "<div>\n",
       "<style scoped>\n",
       "    .dataframe tbody tr th:only-of-type {\n",
       "        vertical-align: middle;\n",
       "    }\n",
       "\n",
       "    .dataframe tbody tr th {\n",
       "        vertical-align: top;\n",
       "    }\n",
       "\n",
       "    .dataframe thead th {\n",
       "        text-align: right;\n",
       "    }\n",
       "</style>\n",
       "<table border=\"1\" class=\"dataframe\">\n",
       "  <thead>\n",
       "    <tr style=\"text-align: right;\">\n",
       "      <th></th>\n",
       "      <th>0</th>\n",
       "      <th>1</th>\n",
       "      <th>2</th>\n",
       "      <th>3</th>\n",
       "    </tr>\n",
       "  </thead>\n",
       "  <tbody>\n",
       "    <tr>\n",
       "      <th>1</th>\n",
       "      <td>8</td>\n",
       "      <td>0</td>\n",
       "      <td>9</td>\n",
       "      <td>7</td>\n",
       "    </tr>\n",
       "    <tr>\n",
       "      <th>0</th>\n",
       "      <td>8</td>\n",
       "      <td>5</td>\n",
       "      <td>7</td>\n",
       "      <td>9</td>\n",
       "    </tr>\n",
       "    <tr>\n",
       "      <th>2</th>\n",
       "      <td>2</td>\n",
       "      <td>8</td>\n",
       "      <td>8</td>\n",
       "      <td>1</td>\n",
       "    </tr>\n",
       "  </tbody>\n",
       "</table>\n",
       "</div>"
      ],
      "text/plain": [
       "   0  1  2  3\n",
       "1  8  0  9  7\n",
       "0  8  5  7  9\n",
       "2  2  8  8  1"
      ]
     },
     "execution_count": 144,
     "metadata": {},
     "output_type": "execute_result"
    }
   ],
   "source": [
    "df2 = df2.sample(3)\n",
    "df2"
   ]
  },
  {
   "cell_type": "code",
   "execution_count": 145,
   "metadata": {},
   "outputs": [
    {
     "data": {
      "text/html": [
       "<div>\n",
       "<style scoped>\n",
       "    .dataframe tbody tr th:only-of-type {\n",
       "        vertical-align: middle;\n",
       "    }\n",
       "\n",
       "    .dataframe tbody tr th {\n",
       "        vertical-align: top;\n",
       "    }\n",
       "\n",
       "    .dataframe thead th {\n",
       "        text-align: right;\n",
       "    }\n",
       "</style>\n",
       "<table border=\"1\" class=\"dataframe\">\n",
       "  <thead>\n",
       "    <tr style=\"text-align: right;\">\n",
       "      <th></th>\n",
       "      <th>0</th>\n",
       "      <th>1</th>\n",
       "      <th>2</th>\n",
       "      <th>3</th>\n",
       "    </tr>\n",
       "  </thead>\n",
       "  <tbody>\n",
       "    <tr>\n",
       "      <th>0</th>\n",
       "      <td>8</td>\n",
       "      <td>13</td>\n",
       "      <td>16</td>\n",
       "      <td>10</td>\n",
       "    </tr>\n",
       "    <tr>\n",
       "      <th>1</th>\n",
       "      <td>17</td>\n",
       "      <td>8</td>\n",
       "      <td>12</td>\n",
       "      <td>8</td>\n",
       "    </tr>\n",
       "    <tr>\n",
       "      <th>2</th>\n",
       "      <td>2</td>\n",
       "      <td>9</td>\n",
       "      <td>17</td>\n",
       "      <td>9</td>\n",
       "    </tr>\n",
       "  </tbody>\n",
       "</table>\n",
       "</div>"
      ],
      "text/plain": [
       "    0   1   2   3\n",
       "0   8  13  16  10\n",
       "1  17   8  12   8\n",
       "2   2   9  17   9"
      ]
     },
     "execution_count": 145,
     "metadata": {},
     "output_type": "execute_result"
    }
   ],
   "source": [
    "df +df2"
   ]
  },
  {
   "cell_type": "markdown",
   "metadata": {},
   "source": [
    "# les opérations entre DataFrame ALIGNENT LES INDEX "
   ]
  },
  {
   "cell_type": "markdown",
   "metadata": {},
   "source": [
    "## selection"
   ]
  },
  {
   "cell_type": "markdown",
   "metadata": {},
   "source": [
    "iloc et loc"
   ]
  },
  {
   "cell_type": "code",
   "execution_count": 162,
   "metadata": {},
   "outputs": [
    {
     "data": {
      "text/html": [
       "<div>\n",
       "<style scoped>\n",
       "    .dataframe tbody tr th:only-of-type {\n",
       "        vertical-align: middle;\n",
       "    }\n",
       "\n",
       "    .dataframe tbody tr th {\n",
       "        vertical-align: top;\n",
       "    }\n",
       "\n",
       "    .dataframe thead th {\n",
       "        text-align: right;\n",
       "    }\n",
       "</style>\n",
       "<table border=\"1\" class=\"dataframe\">\n",
       "  <thead>\n",
       "    <tr style=\"text-align: right;\">\n",
       "      <th></th>\n",
       "      <th>age</th>\n",
       "      <th>nom</th>\n",
       "    </tr>\n",
       "  </thead>\n",
       "  <tbody>\n",
       "    <tr>\n",
       "      <th>etudiant1</th>\n",
       "      <td>18.0</td>\n",
       "      <td>Julien</td>\n",
       "    </tr>\n",
       "    <tr>\n",
       "      <th>etudiant2</th>\n",
       "      <td>25.0</td>\n",
       "      <td>Corentin</td>\n",
       "    </tr>\n",
       "    <tr>\n",
       "      <th>etudiant28</th>\n",
       "      <td>NaN</td>\n",
       "      <td>Julie</td>\n",
       "    </tr>\n",
       "    <tr>\n",
       "      <th>etudiant3</th>\n",
       "      <td>86.0</td>\n",
       "      <td>Luc</td>\n",
       "    </tr>\n",
       "    <tr>\n",
       "      <th>etudiant4</th>\n",
       "      <td>45.0</td>\n",
       "      <td>NaN</td>\n",
       "    </tr>\n",
       "    <tr>\n",
       "      <th>etudiant49</th>\n",
       "      <td>NaN</td>\n",
       "      <td>Seb</td>\n",
       "    </tr>\n",
       "    <tr>\n",
       "      <th>etudiant5</th>\n",
       "      <td>36.0</td>\n",
       "      <td>NaN</td>\n",
       "    </tr>\n",
       "  </tbody>\n",
       "</table>\n",
       "</div>"
      ],
      "text/plain": [
       "             age       nom\n",
       "etudiant1   18.0    Julien\n",
       "etudiant2   25.0  Corentin\n",
       "etudiant28   NaN     Julie\n",
       "etudiant3   86.0       Luc\n",
       "etudiant4   45.0       NaN\n",
       "etudiant49   NaN       Seb\n",
       "etudiant5   36.0       NaN"
      ]
     },
     "execution_count": 162,
     "metadata": {},
     "output_type": "execute_result"
    }
   ],
   "source": [
    "df"
   ]
  },
  {
   "cell_type": "code",
   "execution_count": 165,
   "metadata": {},
   "outputs": [
    {
     "data": {
      "text/plain": [
       "'Corentin'"
      ]
     },
     "execution_count": 165,
     "metadata": {},
     "output_type": "execute_result"
    }
   ],
   "source": [
    "df.iloc[1, 1] # 2 dimensions (une virgule)"
   ]
  },
  {
   "cell_type": "code",
   "execution_count": 166,
   "metadata": {},
   "outputs": [
    {
     "data": {
      "text/plain": [
       "'Corentin'"
      ]
     },
     "execution_count": 166,
     "metadata": {},
     "output_type": "execute_result"
    }
   ],
   "source": [
    "df.loc[\"etudiant2\", \"nom\"]"
   ]
  },
  {
   "cell_type": "markdown",
   "metadata": {},
   "source": [
    "mask c'est avant la virgule c'est l'opération sur les lignes"
   ]
  },
  {
   "cell_type": "code",
   "execution_count": 174,
   "metadata": {},
   "outputs": [],
   "source": [
    "sappelleLucOuCorentinEtPlusde18 = (df[\"age\"]  > 18) & ( ( df.nom == \"Corentin\") | (df.nom ==  \"Luc\"))"
   ]
  },
  {
   "cell_type": "code",
   "execution_count": 177,
   "metadata": {},
   "outputs": [
    {
     "data": {
      "text/plain": [
       "etudiant2    25.0\n",
       "etudiant3    86.0\n",
       "Name: age, dtype: float64"
      ]
     },
     "execution_count": 177,
     "metadata": {},
     "output_type": "execute_result"
    }
   ],
   "source": [
    "df.loc[ sappelleLucOuCorentinEtPlusde18, \"age\"   ]"
   ]
  },
  {
   "cell_type": "code",
   "execution_count": 179,
   "metadata": {},
   "outputs": [
    {
     "data": {
      "text/html": [
       "<div>\n",
       "<style scoped>\n",
       "    .dataframe tbody tr th:only-of-type {\n",
       "        vertical-align: middle;\n",
       "    }\n",
       "\n",
       "    .dataframe tbody tr th {\n",
       "        vertical-align: top;\n",
       "    }\n",
       "\n",
       "    .dataframe thead th {\n",
       "        text-align: right;\n",
       "    }\n",
       "</style>\n",
       "<table border=\"1\" class=\"dataframe\">\n",
       "  <thead>\n",
       "    <tr style=\"text-align: right;\">\n",
       "      <th></th>\n",
       "      <th>age</th>\n",
       "      <th>nom</th>\n",
       "    </tr>\n",
       "  </thead>\n",
       "  <tbody>\n",
       "    <tr>\n",
       "      <th>etudiant1</th>\n",
       "      <td>18.0</td>\n",
       "      <td>Julien</td>\n",
       "    </tr>\n",
       "    <tr>\n",
       "      <th>etudiant2</th>\n",
       "      <td>25.0</td>\n",
       "      <td>Corentin</td>\n",
       "    </tr>\n",
       "    <tr>\n",
       "      <th>etudiant28</th>\n",
       "      <td>NaN</td>\n",
       "      <td>Julie</td>\n",
       "    </tr>\n",
       "    <tr>\n",
       "      <th>etudiant3</th>\n",
       "      <td>86.0</td>\n",
       "      <td>Luc</td>\n",
       "    </tr>\n",
       "    <tr>\n",
       "      <th>etudiant4</th>\n",
       "      <td>45.0</td>\n",
       "      <td>NaN</td>\n",
       "    </tr>\n",
       "  </tbody>\n",
       "</table>\n",
       "</div>"
      ],
      "text/plain": [
       "             age       nom\n",
       "etudiant1   18.0    Julien\n",
       "etudiant2   25.0  Corentin\n",
       "etudiant28   NaN     Julie\n",
       "etudiant3   86.0       Luc\n",
       "etudiant4   45.0       NaN"
      ]
     },
     "execution_count": 179,
     "metadata": {},
     "output_type": "execute_result"
    }
   ],
   "source": [
    "df.loc[\"etudiant1\":\"etudiant4\"]"
   ]
  },
  {
   "cell_type": "code",
   "execution_count": 180,
   "metadata": {},
   "outputs": [
    {
     "data": {
      "text/plain": [
       "Index(['age', 'nom'], dtype='object')"
      ]
     },
     "execution_count": 180,
     "metadata": {},
     "output_type": "execute_result"
    }
   ],
   "source": [
    "df.columns"
   ]
  },
  {
   "cell_type": "code",
   "execution_count": 188,
   "metadata": {},
   "outputs": [
    {
     "data": {
      "text/plain": [
       "age    float64\n",
       "nom     object\n",
       "dtype: object"
      ]
     },
     "execution_count": 188,
     "metadata": {},
     "output_type": "execute_result"
    }
   ],
   "source": [
    "df.dtypes"
   ]
  },
  {
   "cell_type": "code",
   "execution_count": 189,
   "metadata": {},
   "outputs": [],
   "source": [
    "serie1[\"etudiant6\"] = \"bonjour\""
   ]
  },
  {
   "cell_type": "code",
   "execution_count": 190,
   "metadata": {},
   "outputs": [
    {
     "data": {
      "text/plain": [
       "etudiant1         18\n",
       "etudiant2         25\n",
       "etudiant3         86\n",
       "etudiant4         45\n",
       "etudiant5         36\n",
       "etudiant6    bonjour\n",
       "dtype: object"
      ]
     },
     "execution_count": 190,
     "metadata": {},
     "output_type": "execute_result"
    }
   ],
   "source": [
    "serie1"
   ]
  },
  {
   "cell_type": "code",
   "execution_count": 191,
   "metadata": {},
   "outputs": [],
   "source": [
    "del serie1[\"etudiant6\"]"
   ]
  },
  {
   "cell_type": "code",
   "execution_count": 195,
   "metadata": {},
   "outputs": [],
   "source": [
    "serie1 = serie1.astype(int)"
   ]
  },
  {
   "cell_type": "code",
   "execution_count": 196,
   "metadata": {},
   "outputs": [
    {
     "data": {
      "text/plain": [
       "etudiant1    18\n",
       "etudiant2    25\n",
       "etudiant3    86\n",
       "etudiant4    45\n",
       "etudiant5    36\n",
       "dtype: int64"
      ]
     },
     "execution_count": 196,
     "metadata": {},
     "output_type": "execute_result"
    }
   ],
   "source": [
    "serie1"
   ]
  },
  {
   "cell_type": "code",
   "execution_count": 201,
   "metadata": {},
   "outputs": [],
   "source": [
    "serie1[\"etudiant6\"] = \"Bonjour\""
   ]
  },
  {
   "cell_type": "code",
   "execution_count": 202,
   "metadata": {},
   "outputs": [
    {
     "data": {
      "text/plain": [
       "etudiant1         18\n",
       "etudiant2         25\n",
       "etudiant3         86\n",
       "etudiant4         45\n",
       "etudiant5         36\n",
       "etudiant6    Bonjour\n",
       "dtype: object"
      ]
     },
     "execution_count": 202,
     "metadata": {},
     "output_type": "execute_result"
    }
   ],
   "source": [
    "serie1"
   ]
  },
  {
   "cell_type": "code",
   "execution_count": 203,
   "metadata": {},
   "outputs": [
    {
     "data": {
      "text/plain": [
       "etudiant1                36\n",
       "etudiant2                50\n",
       "etudiant3               172\n",
       "etudiant4                90\n",
       "etudiant5                72\n",
       "etudiant6    BonjourBonjour\n",
       "dtype: object"
      ]
     },
     "execution_count": 203,
     "metadata": {},
     "output_type": "execute_result"
    }
   ],
   "source": [
    "serie1 *2"
   ]
  },
  {
   "cell_type": "code",
   "execution_count": 205,
   "metadata": {},
   "outputs": [],
   "source": [
    "del serie1[\"etudiant6\"]"
   ]
  },
  {
   "cell_type": "code",
   "execution_count": 206,
   "metadata": {},
   "outputs": [],
   "source": [
    "serie1  = serie1.astype(int)"
   ]
  },
  {
   "cell_type": "code",
   "execution_count": 207,
   "metadata": {},
   "outputs": [
    {
     "data": {
      "text/plain": [
       "etudiant1     36\n",
       "etudiant2     50\n",
       "etudiant3    172\n",
       "etudiant4     90\n",
       "etudiant5     72\n",
       "dtype: int64"
      ]
     },
     "execution_count": 207,
     "metadata": {},
     "output_type": "execute_result"
    }
   ],
   "source": [
    "serie1 *2 "
   ]
  },
  {
   "cell_type": "code",
   "execution_count": 208,
   "metadata": {},
   "outputs": [
    {
     "data": {
      "text/html": [
       "<div>\n",
       "<style scoped>\n",
       "    .dataframe tbody tr th:only-of-type {\n",
       "        vertical-align: middle;\n",
       "    }\n",
       "\n",
       "    .dataframe tbody tr th {\n",
       "        vertical-align: top;\n",
       "    }\n",
       "\n",
       "    .dataframe thead th {\n",
       "        text-align: right;\n",
       "    }\n",
       "</style>\n",
       "<table border=\"1\" class=\"dataframe\">\n",
       "  <thead>\n",
       "    <tr style=\"text-align: right;\">\n",
       "      <th></th>\n",
       "      <th>age</th>\n",
       "      <th>nom</th>\n",
       "    </tr>\n",
       "  </thead>\n",
       "  <tbody>\n",
       "    <tr>\n",
       "      <th>etudiant1</th>\n",
       "      <td>18.0</td>\n",
       "      <td>Julien</td>\n",
       "    </tr>\n",
       "    <tr>\n",
       "      <th>etudiant2</th>\n",
       "      <td>25.0</td>\n",
       "      <td>Corentin</td>\n",
       "    </tr>\n",
       "    <tr>\n",
       "      <th>etudiant28</th>\n",
       "      <td>NaN</td>\n",
       "      <td>Julie</td>\n",
       "    </tr>\n",
       "    <tr>\n",
       "      <th>etudiant3</th>\n",
       "      <td>86.0</td>\n",
       "      <td>Luc</td>\n",
       "    </tr>\n",
       "    <tr>\n",
       "      <th>etudiant4</th>\n",
       "      <td>45.0</td>\n",
       "      <td>NaN</td>\n",
       "    </tr>\n",
       "    <tr>\n",
       "      <th>etudiant49</th>\n",
       "      <td>NaN</td>\n",
       "      <td>Seb</td>\n",
       "    </tr>\n",
       "    <tr>\n",
       "      <th>etudiant5</th>\n",
       "      <td>36.0</td>\n",
       "      <td>NaN</td>\n",
       "    </tr>\n",
       "  </tbody>\n",
       "</table>\n",
       "</div>"
      ],
      "text/plain": [
       "             age       nom\n",
       "etudiant1   18.0    Julien\n",
       "etudiant2   25.0  Corentin\n",
       "etudiant28   NaN     Julie\n",
       "etudiant3   86.0       Luc\n",
       "etudiant4   45.0       NaN\n",
       "etudiant49   NaN       Seb\n",
       "etudiant5   36.0       NaN"
      ]
     },
     "execution_count": 208,
     "metadata": {},
     "output_type": "execute_result"
    }
   ],
   "source": [
    "df"
   ]
  },
  {
   "cell_type": "code",
   "execution_count": 220,
   "metadata": {},
   "outputs": [
    {
     "data": {
      "text/html": [
       "<div>\n",
       "<style scoped>\n",
       "    .dataframe tbody tr th:only-of-type {\n",
       "        vertical-align: middle;\n",
       "    }\n",
       "\n",
       "    .dataframe tbody tr th {\n",
       "        vertical-align: top;\n",
       "    }\n",
       "\n",
       "    .dataframe thead th {\n",
       "        text-align: right;\n",
       "    }\n",
       "</style>\n",
       "<table border=\"1\" class=\"dataframe\">\n",
       "  <thead>\n",
       "    <tr style=\"text-align: right;\">\n",
       "      <th></th>\n",
       "    </tr>\n",
       "  </thead>\n",
       "  <tbody>\n",
       "    <tr>\n",
       "      <th>etudiant1</th>\n",
       "    </tr>\n",
       "    <tr>\n",
       "      <th>etudiant2</th>\n",
       "    </tr>\n",
       "    <tr>\n",
       "      <th>etudiant28</th>\n",
       "    </tr>\n",
       "    <tr>\n",
       "      <th>etudiant3</th>\n",
       "    </tr>\n",
       "    <tr>\n",
       "      <th>etudiant4</th>\n",
       "    </tr>\n",
       "    <tr>\n",
       "      <th>etudiant49</th>\n",
       "    </tr>\n",
       "    <tr>\n",
       "      <th>etudiant5</th>\n",
       "    </tr>\n",
       "  </tbody>\n",
       "</table>\n",
       "</div>"
      ],
      "text/plain": [
       "Empty DataFrame\n",
       "Columns: []\n",
       "Index: [etudiant1, etudiant2, etudiant28, etudiant3, etudiant4, etudiant49, etudiant5]"
      ]
     },
     "execution_count": 220,
     "metadata": {},
     "output_type": "execute_result"
    }
   ],
   "source": [
    "df.dropna(axis=1, thresh=0.89*df.shape[0])"
   ]
  },
  {
   "cell_type": "code",
   "execution_count": 224,
   "metadata": {},
   "outputs": [
    {
     "data": {
      "text/html": [
       "<div>\n",
       "<style scoped>\n",
       "    .dataframe tbody tr th:only-of-type {\n",
       "        vertical-align: middle;\n",
       "    }\n",
       "\n",
       "    .dataframe tbody tr th {\n",
       "        vertical-align: top;\n",
       "    }\n",
       "\n",
       "    .dataframe thead th {\n",
       "        text-align: right;\n",
       "    }\n",
       "</style>\n",
       "<table border=\"1\" class=\"dataframe\">\n",
       "  <thead>\n",
       "    <tr style=\"text-align: right;\">\n",
       "      <th></th>\n",
       "      <th>age</th>\n",
       "      <th>nom</th>\n",
       "    </tr>\n",
       "  </thead>\n",
       "  <tbody>\n",
       "    <tr>\n",
       "      <th>etudiant1</th>\n",
       "      <td>18.0</td>\n",
       "      <td>Julien</td>\n",
       "    </tr>\n",
       "    <tr>\n",
       "      <th>etudiant2</th>\n",
       "      <td>25.0</td>\n",
       "      <td>Corentin</td>\n",
       "    </tr>\n",
       "    <tr>\n",
       "      <th>etudiant28</th>\n",
       "      <td>NaN</td>\n",
       "      <td>Julie</td>\n",
       "    </tr>\n",
       "    <tr>\n",
       "      <th>etudiant3</th>\n",
       "      <td>86.0</td>\n",
       "      <td>Luc</td>\n",
       "    </tr>\n",
       "    <tr>\n",
       "      <th>etudiant4</th>\n",
       "      <td>45.0</td>\n",
       "      <td>NaN</td>\n",
       "    </tr>\n",
       "    <tr>\n",
       "      <th>etudiant49</th>\n",
       "      <td>NaN</td>\n",
       "      <td>Seb</td>\n",
       "    </tr>\n",
       "    <tr>\n",
       "      <th>etudiant5</th>\n",
       "      <td>36.0</td>\n",
       "      <td>NaN</td>\n",
       "    </tr>\n",
       "  </tbody>\n",
       "</table>\n",
       "</div>"
      ],
      "text/plain": [
       "             age       nom\n",
       "etudiant1   18.0    Julien\n",
       "etudiant2   25.0  Corentin\n",
       "etudiant28   NaN     Julie\n",
       "etudiant3   86.0       Luc\n",
       "etudiant4   45.0       NaN\n",
       "etudiant49   NaN       Seb\n",
       "etudiant5   36.0       NaN"
      ]
     },
     "execution_count": 224,
     "metadata": {},
     "output_type": "execute_result"
    }
   ],
   "source": [
    "df"
   ]
  },
  {
   "cell_type": "code",
   "execution_count": 225,
   "metadata": {},
   "outputs": [
    {
     "data": {
      "text/html": [
       "<div>\n",
       "<style scoped>\n",
       "    .dataframe tbody tr th:only-of-type {\n",
       "        vertical-align: middle;\n",
       "    }\n",
       "\n",
       "    .dataframe tbody tr th {\n",
       "        vertical-align: top;\n",
       "    }\n",
       "\n",
       "    .dataframe thead th {\n",
       "        text-align: right;\n",
       "    }\n",
       "</style>\n",
       "<table border=\"1\" class=\"dataframe\">\n",
       "  <thead>\n",
       "    <tr style=\"text-align: right;\">\n",
       "      <th></th>\n",
       "      <th>age</th>\n",
       "      <th>nom</th>\n",
       "    </tr>\n",
       "  </thead>\n",
       "  <tbody>\n",
       "    <tr>\n",
       "      <th>etudiant1</th>\n",
       "      <td>18.0</td>\n",
       "      <td>Julien</td>\n",
       "    </tr>\n",
       "    <tr>\n",
       "      <th>etudiant2</th>\n",
       "      <td>25.0</td>\n",
       "      <td>Corentin</td>\n",
       "    </tr>\n",
       "    <tr>\n",
       "      <th>etudiant28</th>\n",
       "      <td>25.0</td>\n",
       "      <td>Julie</td>\n",
       "    </tr>\n",
       "    <tr>\n",
       "      <th>etudiant3</th>\n",
       "      <td>86.0</td>\n",
       "      <td>Luc</td>\n",
       "    </tr>\n",
       "    <tr>\n",
       "      <th>etudiant4</th>\n",
       "      <td>45.0</td>\n",
       "      <td>Luc</td>\n",
       "    </tr>\n",
       "    <tr>\n",
       "      <th>etudiant49</th>\n",
       "      <td>45.0</td>\n",
       "      <td>Seb</td>\n",
       "    </tr>\n",
       "    <tr>\n",
       "      <th>etudiant5</th>\n",
       "      <td>36.0</td>\n",
       "      <td>Seb</td>\n",
       "    </tr>\n",
       "  </tbody>\n",
       "</table>\n",
       "</div>"
      ],
      "text/plain": [
       "             age       nom\n",
       "etudiant1   18.0    Julien\n",
       "etudiant2   25.0  Corentin\n",
       "etudiant28  25.0     Julie\n",
       "etudiant3   86.0       Luc\n",
       "etudiant4   45.0       Luc\n",
       "etudiant49  45.0       Seb\n",
       "etudiant5   36.0       Seb"
      ]
     },
     "execution_count": 225,
     "metadata": {},
     "output_type": "execute_result"
    }
   ],
   "source": [
    "df.fillna(method=\"ffill\")"
   ]
  },
  {
   "cell_type": "markdown",
   "metadata": {},
   "source": [
    "### concaténation"
   ]
  },
  {
   "cell_type": "code",
   "execution_count": 226,
   "metadata": {},
   "outputs": [
    {
     "data": {
      "text/html": [
       "<div>\n",
       "<style scoped>\n",
       "    .dataframe tbody tr th:only-of-type {\n",
       "        vertical-align: middle;\n",
       "    }\n",
       "\n",
       "    .dataframe tbody tr th {\n",
       "        vertical-align: top;\n",
       "    }\n",
       "\n",
       "    .dataframe thead th {\n",
       "        text-align: right;\n",
       "    }\n",
       "</style>\n",
       "<table border=\"1\" class=\"dataframe\">\n",
       "  <thead>\n",
       "    <tr style=\"text-align: right;\">\n",
       "      <th></th>\n",
       "      <th>age</th>\n",
       "      <th>nom</th>\n",
       "    </tr>\n",
       "  </thead>\n",
       "  <tbody>\n",
       "    <tr>\n",
       "      <th>etudiant1</th>\n",
       "      <td>18.0</td>\n",
       "      <td>Julien</td>\n",
       "    </tr>\n",
       "    <tr>\n",
       "      <th>etudiant2</th>\n",
       "      <td>25.0</td>\n",
       "      <td>Corentin</td>\n",
       "    </tr>\n",
       "    <tr>\n",
       "      <th>etudiant28</th>\n",
       "      <td>NaN</td>\n",
       "      <td>Julie</td>\n",
       "    </tr>\n",
       "    <tr>\n",
       "      <th>etudiant3</th>\n",
       "      <td>86.0</td>\n",
       "      <td>Luc</td>\n",
       "    </tr>\n",
       "    <tr>\n",
       "      <th>etudiant4</th>\n",
       "      <td>45.0</td>\n",
       "      <td>NaN</td>\n",
       "    </tr>\n",
       "    <tr>\n",
       "      <th>etudiant49</th>\n",
       "      <td>NaN</td>\n",
       "      <td>Seb</td>\n",
       "    </tr>\n",
       "    <tr>\n",
       "      <th>etudiant5</th>\n",
       "      <td>36.0</td>\n",
       "      <td>NaN</td>\n",
       "    </tr>\n",
       "  </tbody>\n",
       "</table>\n",
       "</div>"
      ],
      "text/plain": [
       "             age       nom\n",
       "etudiant1   18.0    Julien\n",
       "etudiant2   25.0  Corentin\n",
       "etudiant28   NaN     Julie\n",
       "etudiant3   86.0       Luc\n",
       "etudiant4   45.0       NaN\n",
       "etudiant49   NaN       Seb\n",
       "etudiant5   36.0       NaN"
      ]
     },
     "execution_count": 226,
     "metadata": {},
     "output_type": "execute_result"
    }
   ],
   "source": [
    "df"
   ]
  },
  {
   "cell_type": "code",
   "execution_count": 235,
   "metadata": {},
   "outputs": [],
   "source": [
    "df2 = pd.DataFrame( { \n",
    "    \"age\": pd.Series([24, 36], index=[\"etudiant2\", \"etudiant3\"]),\n",
    "    \"nom\": pd.Series([\"Martin\", \"Ferdinand\"], index=[\"etudiant2\", \"etudiant3\"])}\n",
    ")"
   ]
  },
  {
   "cell_type": "code",
   "execution_count": 236,
   "metadata": {},
   "outputs": [
    {
     "data": {
      "text/html": [
       "<div>\n",
       "<style scoped>\n",
       "    .dataframe tbody tr th:only-of-type {\n",
       "        vertical-align: middle;\n",
       "    }\n",
       "\n",
       "    .dataframe tbody tr th {\n",
       "        vertical-align: top;\n",
       "    }\n",
       "\n",
       "    .dataframe thead th {\n",
       "        text-align: right;\n",
       "    }\n",
       "</style>\n",
       "<table border=\"1\" class=\"dataframe\">\n",
       "  <thead>\n",
       "    <tr style=\"text-align: right;\">\n",
       "      <th></th>\n",
       "      <th>age</th>\n",
       "      <th>nom</th>\n",
       "    </tr>\n",
       "  </thead>\n",
       "  <tbody>\n",
       "    <tr>\n",
       "      <th>etudiant1</th>\n",
       "      <td>18.0</td>\n",
       "      <td>Julien</td>\n",
       "    </tr>\n",
       "    <tr>\n",
       "      <th>etudiant2</th>\n",
       "      <td>25.0</td>\n",
       "      <td>Corentin</td>\n",
       "    </tr>\n",
       "    <tr>\n",
       "      <th>etudiant28</th>\n",
       "      <td>NaN</td>\n",
       "      <td>Julie</td>\n",
       "    </tr>\n",
       "    <tr>\n",
       "      <th>etudiant3</th>\n",
       "      <td>86.0</td>\n",
       "      <td>Luc</td>\n",
       "    </tr>\n",
       "    <tr>\n",
       "      <th>etudiant4</th>\n",
       "      <td>45.0</td>\n",
       "      <td>NaN</td>\n",
       "    </tr>\n",
       "    <tr>\n",
       "      <th>etudiant49</th>\n",
       "      <td>NaN</td>\n",
       "      <td>Seb</td>\n",
       "    </tr>\n",
       "    <tr>\n",
       "      <th>etudiant5</th>\n",
       "      <td>36.0</td>\n",
       "      <td>NaN</td>\n",
       "    </tr>\n",
       "  </tbody>\n",
       "</table>\n",
       "</div>"
      ],
      "text/plain": [
       "             age       nom\n",
       "etudiant1   18.0    Julien\n",
       "etudiant2   25.0  Corentin\n",
       "etudiant28   NaN     Julie\n",
       "etudiant3   86.0       Luc\n",
       "etudiant4   45.0       NaN\n",
       "etudiant49   NaN       Seb\n",
       "etudiant5   36.0       NaN"
      ]
     },
     "execution_count": 236,
     "metadata": {},
     "output_type": "execute_result"
    }
   ],
   "source": [
    "df"
   ]
  },
  {
   "cell_type": "code",
   "execution_count": 237,
   "metadata": {},
   "outputs": [
    {
     "data": {
      "text/html": [
       "<div>\n",
       "<style scoped>\n",
       "    .dataframe tbody tr th:only-of-type {\n",
       "        vertical-align: middle;\n",
       "    }\n",
       "\n",
       "    .dataframe tbody tr th {\n",
       "        vertical-align: top;\n",
       "    }\n",
       "\n",
       "    .dataframe thead th {\n",
       "        text-align: right;\n",
       "    }\n",
       "</style>\n",
       "<table border=\"1\" class=\"dataframe\">\n",
       "  <thead>\n",
       "    <tr style=\"text-align: right;\">\n",
       "      <th></th>\n",
       "      <th>age</th>\n",
       "      <th>nom</th>\n",
       "    </tr>\n",
       "  </thead>\n",
       "  <tbody>\n",
       "    <tr>\n",
       "      <th>etudiant2</th>\n",
       "      <td>24</td>\n",
       "      <td>Martin</td>\n",
       "    </tr>\n",
       "    <tr>\n",
       "      <th>etudiant3</th>\n",
       "      <td>36</td>\n",
       "      <td>Ferdinand</td>\n",
       "    </tr>\n",
       "  </tbody>\n",
       "</table>\n",
       "</div>"
      ],
      "text/plain": [
       "           age        nom\n",
       "etudiant2   24     Martin\n",
       "etudiant3   36  Ferdinand"
      ]
     },
     "execution_count": 237,
     "metadata": {},
     "output_type": "execute_result"
    }
   ],
   "source": [
    "df2"
   ]
  },
  {
   "cell_type": "code",
   "execution_count": 253,
   "metadata": {},
   "outputs": [
    {
     "data": {
      "text/html": [
       "<div>\n",
       "<style scoped>\n",
       "    .dataframe tbody tr th:only-of-type {\n",
       "        vertical-align: middle;\n",
       "    }\n",
       "\n",
       "    .dataframe tbody tr th {\n",
       "        vertical-align: top;\n",
       "    }\n",
       "\n",
       "    .dataframe thead tr th {\n",
       "        text-align: left;\n",
       "    }\n",
       "</style>\n",
       "<table border=\"1\" class=\"dataframe\">\n",
       "  <thead>\n",
       "    <tr>\n",
       "      <th></th>\n",
       "      <th colspan=\"2\" halign=\"left\">source1</th>\n",
       "      <th colspan=\"2\" halign=\"left\">source2</th>\n",
       "    </tr>\n",
       "    <tr>\n",
       "      <th></th>\n",
       "      <th>age</th>\n",
       "      <th>nom</th>\n",
       "      <th>age</th>\n",
       "      <th>nom</th>\n",
       "    </tr>\n",
       "  </thead>\n",
       "  <tbody>\n",
       "    <tr>\n",
       "      <th>etudiant1</th>\n",
       "      <td>18.0</td>\n",
       "      <td>Julien</td>\n",
       "      <td>NaN</td>\n",
       "      <td>NaN</td>\n",
       "    </tr>\n",
       "    <tr>\n",
       "      <th>etudiant2</th>\n",
       "      <td>25.0</td>\n",
       "      <td>Corentin</td>\n",
       "      <td>24.0</td>\n",
       "      <td>Martin</td>\n",
       "    </tr>\n",
       "    <tr>\n",
       "      <th>etudiant28</th>\n",
       "      <td>NaN</td>\n",
       "      <td>Julie</td>\n",
       "      <td>NaN</td>\n",
       "      <td>NaN</td>\n",
       "    </tr>\n",
       "    <tr>\n",
       "      <th>etudiant3</th>\n",
       "      <td>86.0</td>\n",
       "      <td>Luc</td>\n",
       "      <td>36.0</td>\n",
       "      <td>Ferdinand</td>\n",
       "    </tr>\n",
       "    <tr>\n",
       "      <th>etudiant4</th>\n",
       "      <td>45.0</td>\n",
       "      <td>NaN</td>\n",
       "      <td>NaN</td>\n",
       "      <td>NaN</td>\n",
       "    </tr>\n",
       "    <tr>\n",
       "      <th>etudiant49</th>\n",
       "      <td>NaN</td>\n",
       "      <td>Seb</td>\n",
       "      <td>NaN</td>\n",
       "      <td>NaN</td>\n",
       "    </tr>\n",
       "    <tr>\n",
       "      <th>etudiant5</th>\n",
       "      <td>36.0</td>\n",
       "      <td>NaN</td>\n",
       "      <td>NaN</td>\n",
       "      <td>NaN</td>\n",
       "    </tr>\n",
       "  </tbody>\n",
       "</table>\n",
       "</div>"
      ],
      "text/plain": [
       "           source1           source2           \n",
       "               age       nom     age        nom\n",
       "etudiant1     18.0    Julien     NaN        NaN\n",
       "etudiant2     25.0  Corentin    24.0     Martin\n",
       "etudiant28     NaN     Julie     NaN        NaN\n",
       "etudiant3     86.0       Luc    36.0  Ferdinand\n",
       "etudiant4     45.0       NaN     NaN        NaN\n",
       "etudiant49     NaN       Seb     NaN        NaN\n",
       "etudiant5     36.0       NaN     NaN        NaN"
      ]
     },
     "execution_count": 253,
     "metadata": {},
     "output_type": "execute_result"
    }
   ],
   "source": [
    "pd.concat([df, df2], axis=1, keys=[\"source1\", \"source2\"])"
   ]
  },
  {
   "cell_type": "markdown",
   "metadata": {},
   "source": [
    "## merge/join"
   ]
  },
  {
   "cell_type": "code",
   "execution_count": 259,
   "metadata": {},
   "outputs": [
    {
     "data": {
      "text/html": [
       "<div>\n",
       "<style scoped>\n",
       "    .dataframe tbody tr th:only-of-type {\n",
       "        vertical-align: middle;\n",
       "    }\n",
       "\n",
       "    .dataframe tbody tr th {\n",
       "        vertical-align: top;\n",
       "    }\n",
       "\n",
       "    .dataframe thead th {\n",
       "        text-align: right;\n",
       "    }\n",
       "</style>\n",
       "<table border=\"1\" class=\"dataframe\">\n",
       "  <thead>\n",
       "    <tr style=\"text-align: right;\">\n",
       "      <th></th>\n",
       "      <th>accountNumber</th>\n",
       "      <th>Amount</th>\n",
       "      <th>Name</th>\n",
       "    </tr>\n",
       "  </thead>\n",
       "  <tbody>\n",
       "    <tr>\n",
       "      <th>0</th>\n",
       "      <td>AC1</td>\n",
       "      <td>10000</td>\n",
       "      <td>LIVRET A</td>\n",
       "    </tr>\n",
       "    <tr>\n",
       "      <th>1</th>\n",
       "      <td>AC2</td>\n",
       "      <td>109300</td>\n",
       "      <td>Compte Épargne Retraite</td>\n",
       "    </tr>\n",
       "    <tr>\n",
       "      <th>2</th>\n",
       "      <td>AC3</td>\n",
       "      <td>2984</td>\n",
       "      <td>Quadretto</td>\n",
       "    </tr>\n",
       "    <tr>\n",
       "      <th>3</th>\n",
       "      <td>AC4</td>\n",
       "      <td>1999</td>\n",
       "      <td>Compte Courant</td>\n",
       "    </tr>\n",
       "  </tbody>\n",
       "</table>\n",
       "</div>"
      ],
      "text/plain": [
       "  accountNumber  Amount                     Name\n",
       "0           AC1   10000                 LIVRET A\n",
       "1           AC2  109300  Compte Épargne Retraite\n",
       "2           AC3    2984                Quadretto\n",
       "3           AC4    1999           Compte Courant"
      ]
     },
     "execution_count": 259,
     "metadata": {},
     "output_type": "execute_result"
    }
   ],
   "source": [
    "df_account = pd.DataFrame({'accountNumber': [\"AC1\", \"AC2\", \"AC3\", \"AC4\"],\n",
    "                   'Amount': [10000, 109300, 2984, 1999],\n",
    "                   'Name': [\"LIVRET A\", \"Compte Épargne Retraite\", \"Quadretto\", \"Compte Courant\"]})\n",
    "\n",
    "df_client = pd.DataFrame({'id_account': [\"AC1\", \"AC2\", \"AC3\", \"AC4\", \"AC5\"],\n",
    "                   'Name': [\"Luc\", \"René\", \"Jean\", \"Jean\", \"Joseph\"],\n",
    "                   'id_client': [\"ID1099\", \"ID1091\", \"ID1018\", \"ID1018\", \"ID1021\"]})\n",
    "df_account"
   ]
  },
  {
   "cell_type": "code",
   "execution_count": 260,
   "metadata": {},
   "outputs": [
    {
     "data": {
      "text/html": [
       "<div>\n",
       "<style scoped>\n",
       "    .dataframe tbody tr th:only-of-type {\n",
       "        vertical-align: middle;\n",
       "    }\n",
       "\n",
       "    .dataframe tbody tr th {\n",
       "        vertical-align: top;\n",
       "    }\n",
       "\n",
       "    .dataframe thead th {\n",
       "        text-align: right;\n",
       "    }\n",
       "</style>\n",
       "<table border=\"1\" class=\"dataframe\">\n",
       "  <thead>\n",
       "    <tr style=\"text-align: right;\">\n",
       "      <th></th>\n",
       "      <th>id_account</th>\n",
       "      <th>Name</th>\n",
       "      <th>id_client</th>\n",
       "    </tr>\n",
       "  </thead>\n",
       "  <tbody>\n",
       "    <tr>\n",
       "      <th>0</th>\n",
       "      <td>AC1</td>\n",
       "      <td>Luc</td>\n",
       "      <td>ID1099</td>\n",
       "    </tr>\n",
       "    <tr>\n",
       "      <th>1</th>\n",
       "      <td>AC2</td>\n",
       "      <td>René</td>\n",
       "      <td>ID1091</td>\n",
       "    </tr>\n",
       "    <tr>\n",
       "      <th>2</th>\n",
       "      <td>AC3</td>\n",
       "      <td>Jean</td>\n",
       "      <td>ID1018</td>\n",
       "    </tr>\n",
       "    <tr>\n",
       "      <th>3</th>\n",
       "      <td>AC4</td>\n",
       "      <td>Jean</td>\n",
       "      <td>ID1018</td>\n",
       "    </tr>\n",
       "    <tr>\n",
       "      <th>4</th>\n",
       "      <td>AC5</td>\n",
       "      <td>Joseph</td>\n",
       "      <td>ID1021</td>\n",
       "    </tr>\n",
       "  </tbody>\n",
       "</table>\n",
       "</div>"
      ],
      "text/plain": [
       "  id_account    Name id_client\n",
       "0        AC1     Luc    ID1099\n",
       "1        AC2    René    ID1091\n",
       "2        AC3    Jean    ID1018\n",
       "3        AC4    Jean    ID1018\n",
       "4        AC5  Joseph    ID1021"
      ]
     },
     "execution_count": 260,
     "metadata": {},
     "output_type": "execute_result"
    }
   ],
   "source": [
    "df_client"
   ]
  },
  {
   "cell_type": "code",
   "execution_count": 279,
   "metadata": {},
   "outputs": [],
   "source": [
    "df_merged =pd.merge(left=df_account , \n",
    "         right=df_client, \n",
    "         how='right',\n",
    "         left_on=\"accountNumber\",\n",
    "         right_on=\"id_account\",\n",
    "         suffixes=[\"_account\", \"_client\"])"
   ]
  },
  {
   "cell_type": "code",
   "execution_count": 280,
   "metadata": {},
   "outputs": [],
   "source": [
    "df_merged.drop(\"id_account\", axis=1, inplace=True)"
   ]
  },
  {
   "cell_type": "code",
   "execution_count": 281,
   "metadata": {},
   "outputs": [
    {
     "data": {
      "text/html": [
       "<div>\n",
       "<style scoped>\n",
       "    .dataframe tbody tr th:only-of-type {\n",
       "        vertical-align: middle;\n",
       "    }\n",
       "\n",
       "    .dataframe tbody tr th {\n",
       "        vertical-align: top;\n",
       "    }\n",
       "\n",
       "    .dataframe thead th {\n",
       "        text-align: right;\n",
       "    }\n",
       "</style>\n",
       "<table border=\"1\" class=\"dataframe\">\n",
       "  <thead>\n",
       "    <tr style=\"text-align: right;\">\n",
       "      <th></th>\n",
       "      <th>accountNumber</th>\n",
       "      <th>Amount</th>\n",
       "      <th>Name_account</th>\n",
       "      <th>Name_client</th>\n",
       "      <th>id_client</th>\n",
       "    </tr>\n",
       "  </thead>\n",
       "  <tbody>\n",
       "    <tr>\n",
       "      <th>0</th>\n",
       "      <td>AC1</td>\n",
       "      <td>10000.0</td>\n",
       "      <td>LIVRET A</td>\n",
       "      <td>Luc</td>\n",
       "      <td>ID1099</td>\n",
       "    </tr>\n",
       "    <tr>\n",
       "      <th>1</th>\n",
       "      <td>AC2</td>\n",
       "      <td>109300.0</td>\n",
       "      <td>Compte Épargne Retraite</td>\n",
       "      <td>René</td>\n",
       "      <td>ID1091</td>\n",
       "    </tr>\n",
       "    <tr>\n",
       "      <th>2</th>\n",
       "      <td>AC3</td>\n",
       "      <td>2984.0</td>\n",
       "      <td>Quadretto</td>\n",
       "      <td>Jean</td>\n",
       "      <td>ID1018</td>\n",
       "    </tr>\n",
       "    <tr>\n",
       "      <th>3</th>\n",
       "      <td>AC4</td>\n",
       "      <td>1999.0</td>\n",
       "      <td>Compte Courant</td>\n",
       "      <td>Jean</td>\n",
       "      <td>ID1018</td>\n",
       "    </tr>\n",
       "    <tr>\n",
       "      <th>4</th>\n",
       "      <td>NaN</td>\n",
       "      <td>NaN</td>\n",
       "      <td>NaN</td>\n",
       "      <td>Joseph</td>\n",
       "      <td>ID1021</td>\n",
       "    </tr>\n",
       "  </tbody>\n",
       "</table>\n",
       "</div>"
      ],
      "text/plain": [
       "  accountNumber    Amount             Name_account Name_client id_client\n",
       "0           AC1   10000.0                 LIVRET A         Luc    ID1099\n",
       "1           AC2  109300.0  Compte Épargne Retraite        René    ID1091\n",
       "2           AC3    2984.0                Quadretto        Jean    ID1018\n",
       "3           AC4    1999.0           Compte Courant        Jean    ID1018\n",
       "4           NaN       NaN                      NaN      Joseph    ID1021"
      ]
     },
     "execution_count": 281,
     "metadata": {},
     "output_type": "execute_result"
    }
   ],
   "source": [
    "df_merged"
   ]
  },
  {
   "cell_type": "code",
   "execution_count": 283,
   "metadata": {},
   "outputs": [
    {
     "name": "stdout",
     "output_type": "stream",
     "text": [
      "  % Total    % Received % Xferd  Average Speed   Time    Time     Time  Current\n",
      "                                 Dload  Upload   Total   Spent    Left  Speed\n",
      "100 21979  100 21979    0     0  72778      0 --:--:-- --:--:-- --:--:-- 72778\n"
     ]
    }
   ],
   "source": [
    "!curl https://raw.githubusercontent.com/Luc-Bertin/TDs_ESILV/master/td3_discover_pandas/notes_eleves.csv -o \"notes.csv\""
   ]
  },
  {
   "cell_type": "code",
   "execution_count": 19,
   "metadata": {},
   "outputs": [],
   "source": [
    "df  = pd.read_csv(\"./notes.csv\", encoding='utf8', index_col=0)"
   ]
  },
  {
   "cell_type": "code",
   "execution_count": 20,
   "metadata": {},
   "outputs": [
    {
     "data": {
      "text/html": [
       "<div>\n",
       "<style scoped>\n",
       "    .dataframe tbody tr th:only-of-type {\n",
       "        vertical-align: middle;\n",
       "    }\n",
       "\n",
       "    .dataframe tbody tr th {\n",
       "        vertical-align: top;\n",
       "    }\n",
       "\n",
       "    .dataframe thead th {\n",
       "        text-align: right;\n",
       "    }\n",
       "</style>\n",
       "<table border=\"1\" class=\"dataframe\">\n",
       "  <thead>\n",
       "    <tr style=\"text-align: right;\">\n",
       "      <th></th>\n",
       "      <th>eleve</th>\n",
       "      <th>note</th>\n",
       "      <th>groupe</th>\n",
       "      <th>quizz</th>\n",
       "    </tr>\n",
       "  </thead>\n",
       "  <tbody>\n",
       "    <tr>\n",
       "      <th>0</th>\n",
       "      <td>eleve0</td>\n",
       "      <td>71,43 %</td>\n",
       "      <td>Unknown</td>\n",
       "      <td>td1</td>\n",
       "    </tr>\n",
       "    <tr>\n",
       "      <th>1</th>\n",
       "      <td>eleve1</td>\n",
       "      <td>100 %</td>\n",
       "      <td>Unknown</td>\n",
       "      <td>td1</td>\n",
       "    </tr>\n",
       "    <tr>\n",
       "      <th>2</th>\n",
       "      <td>eleve4</td>\n",
       "      <td>71,43 %</td>\n",
       "      <td>Unknown</td>\n",
       "      <td>td1</td>\n",
       "    </tr>\n",
       "    <tr>\n",
       "      <th>3</th>\n",
       "      <td>eleve6</td>\n",
       "      <td>42,86 %</td>\n",
       "      <td>Unknown</td>\n",
       "      <td>td1</td>\n",
       "    </tr>\n",
       "    <tr>\n",
       "      <th>4</th>\n",
       "      <td>eleve8</td>\n",
       "      <td>57,14 %</td>\n",
       "      <td>Unknown</td>\n",
       "      <td>td1</td>\n",
       "    </tr>\n",
       "    <tr>\n",
       "      <th>...</th>\n",
       "      <td>...</td>\n",
       "      <td>...</td>\n",
       "      <td>...</td>\n",
       "      <td>...</td>\n",
       "    </tr>\n",
       "    <tr>\n",
       "      <th>741</th>\n",
       "      <td>eleve174</td>\n",
       "      <td>100 %</td>\n",
       "      <td>ibo5</td>\n",
       "      <td>td3</td>\n",
       "    </tr>\n",
       "    <tr>\n",
       "      <th>742</th>\n",
       "      <td>eleve166</td>\n",
       "      <td>66,67 %</td>\n",
       "      <td>ibo5</td>\n",
       "      <td>td3</td>\n",
       "    </tr>\n",
       "    <tr>\n",
       "      <th>743</th>\n",
       "      <td>eleve176</td>\n",
       "      <td>83,33 %</td>\n",
       "      <td>ibo5</td>\n",
       "      <td>td3</td>\n",
       "    </tr>\n",
       "    <tr>\n",
       "      <th>744</th>\n",
       "      <td>eleve186</td>\n",
       "      <td>100 %</td>\n",
       "      <td>ibo5</td>\n",
       "      <td>td3</td>\n",
       "    </tr>\n",
       "    <tr>\n",
       "      <th>745</th>\n",
       "      <td>eleve196</td>\n",
       "      <td>66,67 %</td>\n",
       "      <td>ibo5</td>\n",
       "      <td>td3</td>\n",
       "    </tr>\n",
       "  </tbody>\n",
       "</table>\n",
       "<p>746 rows × 4 columns</p>\n",
       "</div>"
      ],
      "text/plain": [
       "        eleve     note   groupe quizz\n",
       "0      eleve0  71,43 %  Unknown   td1\n",
       "1      eleve1    100 %  Unknown   td1\n",
       "2      eleve4  71,43 %  Unknown   td1\n",
       "3      eleve6  42,86 %  Unknown   td1\n",
       "4      eleve8  57,14 %  Unknown   td1\n",
       "..        ...      ...      ...   ...\n",
       "741  eleve174    100 %     ibo5   td3\n",
       "742  eleve166  66,67 %     ibo5   td3\n",
       "743  eleve176  83,33 %     ibo5   td3\n",
       "744  eleve186    100 %     ibo5   td3\n",
       "745  eleve196  66,67 %     ibo5   td3\n",
       "\n",
       "[746 rows x 4 columns]"
      ]
     },
     "execution_count": 20,
     "metadata": {},
     "output_type": "execute_result"
    }
   ],
   "source": [
    "df"
   ]
  },
  {
   "cell_type": "code",
   "execution_count": 21,
   "metadata": {},
   "outputs": [
    {
     "data": {
      "text/html": [
       "<div>\n",
       "<style scoped>\n",
       "    .dataframe tbody tr th:only-of-type {\n",
       "        vertical-align: middle;\n",
       "    }\n",
       "\n",
       "    .dataframe tbody tr th {\n",
       "        vertical-align: top;\n",
       "    }\n",
       "\n",
       "    .dataframe thead th {\n",
       "        text-align: right;\n",
       "    }\n",
       "</style>\n",
       "<table border=\"1\" class=\"dataframe\">\n",
       "  <thead>\n",
       "    <tr style=\"text-align: right;\">\n",
       "      <th></th>\n",
       "      <th>eleve</th>\n",
       "      <th>note</th>\n",
       "      <th>groupe</th>\n",
       "      <th>quizz</th>\n",
       "    </tr>\n",
       "  </thead>\n",
       "  <tbody>\n",
       "    <tr>\n",
       "      <th>0</th>\n",
       "      <td>eleve0</td>\n",
       "      <td>71,43 %</td>\n",
       "      <td>Unknown</td>\n",
       "      <td>td1</td>\n",
       "    </tr>\n",
       "    <tr>\n",
       "      <th>1</th>\n",
       "      <td>eleve1</td>\n",
       "      <td>100 %</td>\n",
       "      <td>Unknown</td>\n",
       "      <td>td1</td>\n",
       "    </tr>\n",
       "    <tr>\n",
       "      <th>2</th>\n",
       "      <td>eleve4</td>\n",
       "      <td>71,43 %</td>\n",
       "      <td>Unknown</td>\n",
       "      <td>td1</td>\n",
       "    </tr>\n",
       "    <tr>\n",
       "      <th>3</th>\n",
       "      <td>eleve6</td>\n",
       "      <td>42,86 %</td>\n",
       "      <td>Unknown</td>\n",
       "      <td>td1</td>\n",
       "    </tr>\n",
       "  </tbody>\n",
       "</table>\n",
       "</div>"
      ],
      "text/plain": [
       "    eleve     note   groupe quizz\n",
       "0  eleve0  71,43 %  Unknown   td1\n",
       "1  eleve1    100 %  Unknown   td1\n",
       "2  eleve4  71,43 %  Unknown   td1\n",
       "3  eleve6  42,86 %  Unknown   td1"
      ]
     },
     "execution_count": 21,
     "metadata": {},
     "output_type": "execute_result"
    }
   ],
   "source": [
    "df.head(4)"
   ]
  },
  {
   "cell_type": "markdown",
   "metadata": {},
   "source": [
    "## comment appliquer une fonction sur une colonne"
   ]
  },
  {
   "cell_type": "code",
   "execution_count": 22,
   "metadata": {},
   "outputs": [],
   "source": [
    "def function(val):\n",
    "    # val c'est un élément de ma colonne ! \n",
    "    ## elements dans ma fonction\n",
    "    if int(val[-1]) % 2 == 0:\n",
    "        return \"pair\"\n",
    "    else:\n",
    "        return \"impair\""
   ]
  },
  {
   "cell_type": "code",
   "execution_count": 23,
   "metadata": {},
   "outputs": [
    {
     "data": {
      "text/plain": [
       "0        pair\n",
       "1      impair\n",
       "2        pair\n",
       "3        pair\n",
       "4        pair\n",
       "        ...  \n",
       "741      pair\n",
       "742      pair\n",
       "743      pair\n",
       "744      pair\n",
       "745      pair\n",
       "Name: eleve, Length: 746, dtype: object"
      ]
     },
     "execution_count": 23,
     "metadata": {},
     "output_type": "execute_result"
    }
   ],
   "source": [
    "df.eleve.apply(function)"
   ]
  },
  {
   "cell_type": "markdown",
   "metadata": {},
   "source": [
    "## sort_values()"
   ]
  },
  {
   "cell_type": "code",
   "execution_count": 24,
   "metadata": {},
   "outputs": [],
   "source": [
    "df.sort_values(\"eleve\", inplace=True)"
   ]
  },
  {
   "cell_type": "code",
   "execution_count": 25,
   "metadata": {},
   "outputs": [
    {
     "data": {
      "text/html": [
       "<div>\n",
       "<style scoped>\n",
       "    .dataframe tbody tr th:only-of-type {\n",
       "        vertical-align: middle;\n",
       "    }\n",
       "\n",
       "    .dataframe tbody tr th {\n",
       "        vertical-align: top;\n",
       "    }\n",
       "\n",
       "    .dataframe thead th {\n",
       "        text-align: right;\n",
       "    }\n",
       "</style>\n",
       "<table border=\"1\" class=\"dataframe\">\n",
       "  <thead>\n",
       "    <tr style=\"text-align: right;\">\n",
       "      <th></th>\n",
       "      <th>eleve</th>\n",
       "      <th>note</th>\n",
       "      <th>groupe</th>\n",
       "      <th>quizz</th>\n",
       "    </tr>\n",
       "  </thead>\n",
       "  <tbody>\n",
       "    <tr>\n",
       "      <th>0</th>\n",
       "      <td>eleve0</td>\n",
       "      <td>71,43 %</td>\n",
       "      <td>Unknown</td>\n",
       "      <td>td1</td>\n",
       "    </tr>\n",
       "    <tr>\n",
       "      <th>444</th>\n",
       "      <td>eleve0</td>\n",
       "      <td>80 %</td>\n",
       "      <td>ibo2</td>\n",
       "      <td>td2</td>\n",
       "    </tr>\n",
       "    <tr>\n",
       "      <th>691</th>\n",
       "      <td>eleve0</td>\n",
       "      <td>100 %</td>\n",
       "      <td>ibo2</td>\n",
       "      <td>td3</td>\n",
       "    </tr>\n",
       "    <tr>\n",
       "      <th>445</th>\n",
       "      <td>eleve1</td>\n",
       "      <td>100 %</td>\n",
       "      <td>ibo2</td>\n",
       "      <td>td2</td>\n",
       "    </tr>\n",
       "    <tr>\n",
       "      <th>692</th>\n",
       "      <td>eleve1</td>\n",
       "      <td>100 %</td>\n",
       "      <td>ibo2</td>\n",
       "      <td>td3</td>\n",
       "    </tr>\n",
       "    <tr>\n",
       "      <th>...</th>\n",
       "      <td>...</td>\n",
       "      <td>...</td>\n",
       "      <td>...</td>\n",
       "      <td>...</td>\n",
       "    </tr>\n",
       "    <tr>\n",
       "      <th>615</th>\n",
       "      <td>eleve98</td>\n",
       "      <td>100 %</td>\n",
       "      <td>ibo4</td>\n",
       "      <td>td2</td>\n",
       "    </tr>\n",
       "    <tr>\n",
       "      <th>45</th>\n",
       "      <td>eleve98</td>\n",
       "      <td>42,86 %</td>\n",
       "      <td>Unknown</td>\n",
       "      <td>td1</td>\n",
       "    </tr>\n",
       "    <tr>\n",
       "      <th>704</th>\n",
       "      <td>eleve99</td>\n",
       "      <td>100 %</td>\n",
       "      <td>ibo2</td>\n",
       "      <td>td3</td>\n",
       "    </tr>\n",
       "    <tr>\n",
       "      <th>46</th>\n",
       "      <td>eleve99</td>\n",
       "      <td>71,43 %</td>\n",
       "      <td>Unknown</td>\n",
       "      <td>td1</td>\n",
       "    </tr>\n",
       "    <tr>\n",
       "      <th>460</th>\n",
       "      <td>eleve99</td>\n",
       "      <td>100 %</td>\n",
       "      <td>ibo2</td>\n",
       "      <td>td2</td>\n",
       "    </tr>\n",
       "  </tbody>\n",
       "</table>\n",
       "<p>746 rows × 4 columns</p>\n",
       "</div>"
      ],
      "text/plain": [
       "       eleve     note   groupe quizz\n",
       "0     eleve0  71,43 %  Unknown   td1\n",
       "444   eleve0     80 %     ibo2   td2\n",
       "691   eleve0    100 %     ibo2   td3\n",
       "445   eleve1    100 %     ibo2   td2\n",
       "692   eleve1    100 %     ibo2   td3\n",
       "..       ...      ...      ...   ...\n",
       "615  eleve98    100 %     ibo4   td2\n",
       "45   eleve98  42,86 %  Unknown   td1\n",
       "704  eleve99    100 %     ibo2   td3\n",
       "46   eleve99  71,43 %  Unknown   td1\n",
       "460  eleve99    100 %     ibo2   td2\n",
       "\n",
       "[746 rows x 4 columns]"
      ]
     },
     "execution_count": 25,
     "metadata": {},
     "output_type": "execute_result"
    }
   ],
   "source": [
    "df"
   ]
  },
  {
   "cell_type": "code",
   "execution_count": 26,
   "metadata": {},
   "outputs": [],
   "source": [
    "def function(row):\n",
    "    if row[\"groupe\"] == \"ibo2\":\n",
    "        if row[\"quizz\"] == \"td2\":\n",
    "            return \"NOTE ANNULEE\"\n",
    "        else:\n",
    "            return \"NOTE CONSERVEE\"\n",
    "    return \"NOTE CONSERVEE\""
   ]
  },
  {
   "cell_type": "code",
   "execution_count": 27,
   "metadata": {},
   "outputs": [],
   "source": [
    "df[\"conserveeOUpas\"] = df.apply(function, axis=1)"
   ]
  },
  {
   "cell_type": "code",
   "execution_count": 28,
   "metadata": {},
   "outputs": [
    {
     "data": {
      "text/html": [
       "<div>\n",
       "<style scoped>\n",
       "    .dataframe tbody tr th:only-of-type {\n",
       "        vertical-align: middle;\n",
       "    }\n",
       "\n",
       "    .dataframe tbody tr th {\n",
       "        vertical-align: top;\n",
       "    }\n",
       "\n",
       "    .dataframe thead th {\n",
       "        text-align: right;\n",
       "    }\n",
       "</style>\n",
       "<table border=\"1\" class=\"dataframe\">\n",
       "  <thead>\n",
       "    <tr style=\"text-align: right;\">\n",
       "      <th></th>\n",
       "      <th>eleve</th>\n",
       "      <th>note</th>\n",
       "      <th>groupe</th>\n",
       "      <th>quizz</th>\n",
       "      <th>conserveeOUpas</th>\n",
       "    </tr>\n",
       "  </thead>\n",
       "  <tbody>\n",
       "    <tr>\n",
       "      <th>0</th>\n",
       "      <td>eleve0</td>\n",
       "      <td>71,43 %</td>\n",
       "      <td>Unknown</td>\n",
       "      <td>td1</td>\n",
       "      <td>NOTE CONSERVEE</td>\n",
       "    </tr>\n",
       "    <tr>\n",
       "      <th>444</th>\n",
       "      <td>eleve0</td>\n",
       "      <td>80 %</td>\n",
       "      <td>ibo2</td>\n",
       "      <td>td2</td>\n",
       "      <td>NOTE ANNULEE</td>\n",
       "    </tr>\n",
       "    <tr>\n",
       "      <th>691</th>\n",
       "      <td>eleve0</td>\n",
       "      <td>100 %</td>\n",
       "      <td>ibo2</td>\n",
       "      <td>td3</td>\n",
       "      <td>NOTE CONSERVEE</td>\n",
       "    </tr>\n",
       "    <tr>\n",
       "      <th>445</th>\n",
       "      <td>eleve1</td>\n",
       "      <td>100 %</td>\n",
       "      <td>ibo2</td>\n",
       "      <td>td2</td>\n",
       "      <td>NOTE ANNULEE</td>\n",
       "    </tr>\n",
       "    <tr>\n",
       "      <th>692</th>\n",
       "      <td>eleve1</td>\n",
       "      <td>100 %</td>\n",
       "      <td>ibo2</td>\n",
       "      <td>td3</td>\n",
       "      <td>NOTE CONSERVEE</td>\n",
       "    </tr>\n",
       "    <tr>\n",
       "      <th>...</th>\n",
       "      <td>...</td>\n",
       "      <td>...</td>\n",
       "      <td>...</td>\n",
       "      <td>...</td>\n",
       "      <td>...</td>\n",
       "    </tr>\n",
       "    <tr>\n",
       "      <th>615</th>\n",
       "      <td>eleve98</td>\n",
       "      <td>100 %</td>\n",
       "      <td>ibo4</td>\n",
       "      <td>td2</td>\n",
       "      <td>NOTE CONSERVEE</td>\n",
       "    </tr>\n",
       "    <tr>\n",
       "      <th>45</th>\n",
       "      <td>eleve98</td>\n",
       "      <td>42,86 %</td>\n",
       "      <td>Unknown</td>\n",
       "      <td>td1</td>\n",
       "      <td>NOTE CONSERVEE</td>\n",
       "    </tr>\n",
       "    <tr>\n",
       "      <th>704</th>\n",
       "      <td>eleve99</td>\n",
       "      <td>100 %</td>\n",
       "      <td>ibo2</td>\n",
       "      <td>td3</td>\n",
       "      <td>NOTE CONSERVEE</td>\n",
       "    </tr>\n",
       "    <tr>\n",
       "      <th>46</th>\n",
       "      <td>eleve99</td>\n",
       "      <td>71,43 %</td>\n",
       "      <td>Unknown</td>\n",
       "      <td>td1</td>\n",
       "      <td>NOTE CONSERVEE</td>\n",
       "    </tr>\n",
       "    <tr>\n",
       "      <th>460</th>\n",
       "      <td>eleve99</td>\n",
       "      <td>100 %</td>\n",
       "      <td>ibo2</td>\n",
       "      <td>td2</td>\n",
       "      <td>NOTE ANNULEE</td>\n",
       "    </tr>\n",
       "  </tbody>\n",
       "</table>\n",
       "<p>746 rows × 5 columns</p>\n",
       "</div>"
      ],
      "text/plain": [
       "       eleve     note   groupe quizz  conserveeOUpas\n",
       "0     eleve0  71,43 %  Unknown   td1  NOTE CONSERVEE\n",
       "444   eleve0     80 %     ibo2   td2    NOTE ANNULEE\n",
       "691   eleve0    100 %     ibo2   td3  NOTE CONSERVEE\n",
       "445   eleve1    100 %     ibo2   td2    NOTE ANNULEE\n",
       "692   eleve1    100 %     ibo2   td3  NOTE CONSERVEE\n",
       "..       ...      ...      ...   ...             ...\n",
       "615  eleve98    100 %     ibo4   td2  NOTE CONSERVEE\n",
       "45   eleve98  42,86 %  Unknown   td1  NOTE CONSERVEE\n",
       "704  eleve99    100 %     ibo2   td3  NOTE CONSERVEE\n",
       "46   eleve99  71,43 %  Unknown   td1  NOTE CONSERVEE\n",
       "460  eleve99    100 %     ibo2   td2    NOTE ANNULEE\n",
       "\n",
       "[746 rows x 5 columns]"
      ]
     },
     "execution_count": 28,
     "metadata": {},
     "output_type": "execute_result"
    }
   ],
   "source": [
    "df"
   ]
  },
  {
   "cell_type": "code",
   "execution_count": 29,
   "metadata": {},
   "outputs": [
    {
     "data": {
      "text/plain": [
       "eleve             object\n",
       "note              object\n",
       "groupe            object\n",
       "quizz             object\n",
       "conserveeOUpas    object\n",
       "dtype: object"
      ]
     },
     "execution_count": 29,
     "metadata": {},
     "output_type": "execute_result"
    }
   ],
   "source": [
    "df.dtypes"
   ]
  },
  {
   "cell_type": "markdown",
   "metadata": {},
   "source": [
    "## STR VECTORIZED MANIPULATIONS"
   ]
  },
  {
   "cell_type": "markdown",
   "metadata": {},
   "source": [
    "function qui s'applique sur l'input entier (sur la colonne entiere, plutôt que chacun des elements de ma colone)"
   ]
  },
  {
   "cell_type": "markdown",
   "metadata": {},
   "source": [
    "pandas vous procure des functions str vectorisées"
   ]
  },
  {
   "cell_type": "code",
   "execution_count": 30,
   "metadata": {},
   "outputs": [
    {
     "data": {
      "text/plain": [
       "'ir'"
      ]
     },
     "execution_count": 30,
     "metadata": {},
     "output_type": "execute_result"
    }
   ],
   "source": [
    "string = \"bonjour, au revoir\"\n",
    "string.split(\"o\")[3]"
   ]
  },
  {
   "cell_type": "code",
   "execution_count": 31,
   "metadata": {},
   "outputs": [
    {
     "data": {
      "text/plain": [
       "'banjaur, au revair'"
      ]
     },
     "execution_count": 31,
     "metadata": {},
     "output_type": "execute_result"
    }
   ],
   "source": [
    "string.replace('o', 'a')"
   ]
  },
  {
   "cell_type": "code",
   "execution_count": 32,
   "metadata": {},
   "outputs": [
    {
     "data": {
      "text/plain": [
       "0       71.43\n",
       "444     80.00\n",
       "691    100.00\n",
       "445    100.00\n",
       "692    100.00\n",
       "        ...  \n",
       "615    100.00\n",
       "45      42.86\n",
       "704    100.00\n",
       "46      71.43\n",
       "460    100.00\n",
       "Name: note, Length: 746, dtype: float64"
      ]
     },
     "execution_count": 32,
     "metadata": {},
     "output_type": "execute_result"
    }
   ],
   "source": [
    "(df.note\n",
    "     .str.replace(',', '.')\n",
    "     .str.replace('%','')\n",
    "     .astype(float))"
   ]
  },
  {
   "cell_type": "code",
   "execution_count": 33,
   "metadata": {},
   "outputs": [],
   "source": [
    "string = \"bonjour\" # split ->> liste -->> join -->> string"
   ]
  },
  {
   "cell_type": "code",
   "execution_count": 34,
   "metadata": {},
   "outputs": [
    {
     "data": {
      "text/plain": [
       "'b_nj_ur'"
      ]
     },
     "execution_count": 34,
     "metadata": {},
     "output_type": "execute_result"
    }
   ],
   "source": [
    "\"_\".join(string.split('o'))"
   ]
  },
  {
   "cell_type": "code",
   "execution_count": 35,
   "metadata": {},
   "outputs": [
    {
     "data": {
      "text/plain": [
       "'bonjour'"
      ]
     },
     "execution_count": 35,
     "metadata": {},
     "output_type": "execute_result"
    }
   ],
   "source": [
    "string.strip(\"o\") # pour enlever des espaces inutiles"
   ]
  },
  {
   "cell_type": "code",
   "execution_count": 36,
   "metadata": {},
   "outputs": [
    {
     "data": {
      "text/plain": [
       "'Place du Palais des COngrès'"
      ]
     },
     "execution_count": 36,
     "metadata": {},
     "output_type": "execute_result"
    }
   ],
   "source": [
    "\" Place du Palais des COngrès      \".strip(\" \")"
   ]
  },
  {
   "cell_type": "code",
   "execution_count": 37,
   "metadata": {},
   "outputs": [],
   "source": [
    "df.note = (df.note\n",
    "     .str.findall('(\\d+),?(\\d+)?')\n",
    "     .str[0]\n",
    "     .str.join(\".\")\n",
    "     .str.strip('.').astype(float))"
   ]
  },
  {
   "cell_type": "code",
   "execution_count": 38,
   "metadata": {},
   "outputs": [
    {
     "data": {
      "text/plain": [
       "eleve              object\n",
       "note              float64\n",
       "groupe             object\n",
       "quizz              object\n",
       "conserveeOUpas     object\n",
       "dtype: object"
      ]
     },
     "execution_count": 38,
     "metadata": {},
     "output_type": "execute_result"
    }
   ],
   "source": [
    "df.dtypes"
   ]
  },
  {
   "cell_type": "code",
   "execution_count": 39,
   "metadata": {},
   "outputs": [
    {
     "data": {
      "text/html": [
       "<div>\n",
       "<style scoped>\n",
       "    .dataframe tbody tr th:only-of-type {\n",
       "        vertical-align: middle;\n",
       "    }\n",
       "\n",
       "    .dataframe tbody tr th {\n",
       "        vertical-align: top;\n",
       "    }\n",
       "\n",
       "    .dataframe thead th {\n",
       "        text-align: right;\n",
       "    }\n",
       "</style>\n",
       "<table border=\"1\" class=\"dataframe\">\n",
       "  <thead>\n",
       "    <tr style=\"text-align: right;\">\n",
       "      <th></th>\n",
       "      <th>eleve</th>\n",
       "      <th>note</th>\n",
       "      <th>groupe</th>\n",
       "      <th>quizz</th>\n",
       "      <th>conserveeOUpas</th>\n",
       "    </tr>\n",
       "  </thead>\n",
       "  <tbody>\n",
       "    <tr>\n",
       "      <th>0</th>\n",
       "      <td>eleve0</td>\n",
       "      <td>71.43</td>\n",
       "      <td>Unknown</td>\n",
       "      <td>td1</td>\n",
       "      <td>NOTE CONSERVEE</td>\n",
       "    </tr>\n",
       "    <tr>\n",
       "      <th>444</th>\n",
       "      <td>eleve0</td>\n",
       "      <td>80.00</td>\n",
       "      <td>ibo2</td>\n",
       "      <td>td2</td>\n",
       "      <td>NOTE ANNULEE</td>\n",
       "    </tr>\n",
       "    <tr>\n",
       "      <th>691</th>\n",
       "      <td>eleve0</td>\n",
       "      <td>100.00</td>\n",
       "      <td>ibo2</td>\n",
       "      <td>td3</td>\n",
       "      <td>NOTE CONSERVEE</td>\n",
       "    </tr>\n",
       "  </tbody>\n",
       "</table>\n",
       "</div>"
      ],
      "text/plain": [
       "      eleve    note   groupe quizz  conserveeOUpas\n",
       "0    eleve0   71.43  Unknown   td1  NOTE CONSERVEE\n",
       "444  eleve0   80.00     ibo2   td2    NOTE ANNULEE\n",
       "691  eleve0  100.00     ibo2   td3  NOTE CONSERVEE"
      ]
     },
     "execution_count": 39,
     "metadata": {},
     "output_type": "execute_result"
    }
   ],
   "source": [
    "df.head(3)"
   ]
  },
  {
   "cell_type": "markdown",
   "metadata": {},
   "source": [
    "### Compter les nombres d'occurences dans la table/dataframe/dataset d'éléments différents dans une colonne"
   ]
  },
  {
   "cell_type": "code",
   "execution_count": 40,
   "metadata": {},
   "outputs": [
    {
     "data": {
      "text/plain": [
       "ibo2        57\n",
       "ibo4        81\n",
       "ibo3        85\n",
       "ibo6        85\n",
       "Unknown     92\n",
       "ibo7       114\n",
       "ibo5       115\n",
       "ibo1       117\n",
       "Name: groupe, dtype: int64"
      ]
     },
     "execution_count": 40,
     "metadata": {},
     "output_type": "execute_result"
    }
   ],
   "source": [
    "df.groupe.value_counts(ascending=True)"
   ]
  },
  {
   "cell_type": "code",
   "execution_count": 41,
   "metadata": {},
   "outputs": [],
   "source": [
    "df[\"intervalle\"] = pd.cut(df.note, bins=[0, 50, 75, 100], labels= ['Bad', 'Moyen','Bon'])"
   ]
  },
  {
   "cell_type": "markdown",
   "metadata": {},
   "source": [
    "## Groupby"
   ]
  },
  {
   "cell_type": "code",
   "execution_count": 42,
   "metadata": {},
   "outputs": [
    {
     "data": {
      "text/plain": [
       "ibo1       117\n",
       "ibo5       115\n",
       "ibo7       114\n",
       "Unknown     92\n",
       "ibo6        85\n",
       "ibo3        85\n",
       "ibo4        81\n",
       "ibo2        57\n",
       "Name: groupe, dtype: int64"
      ]
     },
     "execution_count": 42,
     "metadata": {},
     "output_type": "execute_result"
    }
   ],
   "source": [
    "df.groupe.value_counts()"
   ]
  },
  {
   "cell_type": "code",
   "execution_count": 43,
   "metadata": {
    "scrolled": false
   },
   "outputs": [
    {
     "name": "stdout",
     "output_type": "stream",
     "text": [
      "nom ('Unknown', 'td1'), shape (92, 6)\n",
      "nom ('ibo1', 'td1'), shape (30, 6)\n",
      "nom ('ibo1', 'td2'), shape (30, 6)\n",
      "nom ('ibo1', 'td3'), shape (27, 6)\n",
      "nom ('ibo1', 'td4'), shape (30, 6)\n",
      "nom ('ibo2', 'td2'), shape (30, 6)\n",
      "nom ('ibo2', 'td3'), shape (27, 6)\n",
      "nom ('ibo3', 'td2'), shape (30, 6)\n",
      "nom ('ibo3', 'td3'), shape (27, 6)\n",
      "nom ('ibo3', 'td4'), shape (28, 6)\n",
      "nom ('ibo4', 'td2'), shape (27, 6)\n",
      "nom ('ibo4', 'td3'), shape (28, 6)\n",
      "nom ('ibo4', 'td4'), shape (26, 6)\n",
      "nom ('ibo5', 'td1'), shape (27, 6)\n",
      "nom ('ibo5', 'td2'), shape (30, 6)\n",
      "nom ('ibo5', 'td3'), shape (28, 6)\n",
      "nom ('ibo5', 'td4'), shape (30, 6)\n",
      "nom ('ibo6', 'td2'), shape (29, 6)\n",
      "nom ('ibo6', 'td3'), shape (28, 6)\n",
      "nom ('ibo6', 'td4'), shape (28, 6)\n",
      "nom ('ibo7', 'td1'), shape (29, 6)\n",
      "nom ('ibo7', 'td2'), shape (28, 6)\n",
      "nom ('ibo7', 'td3'), shape (28, 6)\n",
      "nom ('ibo7', 'td4'), shape (29, 6)\n"
     ]
    }
   ],
   "source": [
    "for name, group in df.groupby(['groupe', 'quizz']):\n",
    "    print( 'nom {}, shape {}'.format( name, group.shape))"
   ]
  },
  {
   "cell_type": "code",
   "execution_count": 44,
   "metadata": {},
   "outputs": [
    {
     "data": {
      "text/plain": [
       "groupe   quizz\n",
       "Unknown  td1      63.664022\n",
       "ibo1     td1      67.618000\n",
       "         td2      94.666667\n",
       "         td3      90.739630\n",
       "         td4      96.666333\n",
       "ibo2     td2      98.666667\n",
       "         td3      95.678148\n",
       "ibo3     td2      88.666667\n",
       "         td3      88.887037\n",
       "         td4      81.630357\n",
       "ibo4     td2      87.407407\n",
       "         td3      87.500000\n",
       "         td4      89.009231\n",
       "ibo5     td1      53.967407\n",
       "         td2      90.000000\n",
       "         td3      90.475714\n",
       "         td4      84.759667\n",
       "ibo6     td2      90.344828\n",
       "         td3      83.332857\n",
       "         td4      76.529286\n",
       "ibo7     td1      74.875517\n",
       "         td2      85.714286\n",
       "         td3      94.642500\n",
       "         td4      90.637931\n",
       "Name: note, dtype: float64"
      ]
     },
     "execution_count": 44,
     "metadata": {},
     "output_type": "execute_result"
    }
   ],
   "source": [
    "df.groupby([\"groupe\", \"quizz\"])[\"note\"].mean()"
   ]
  },
  {
   "cell_type": "code",
   "execution_count": 45,
   "metadata": {
    "scrolled": false
   },
   "outputs": [
    {
     "data": {
      "text/html": [
       "<div>\n",
       "<style scoped>\n",
       "    .dataframe tbody tr th:only-of-type {\n",
       "        vertical-align: middle;\n",
       "    }\n",
       "\n",
       "    .dataframe tbody tr th {\n",
       "        vertical-align: top;\n",
       "    }\n",
       "\n",
       "    .dataframe thead th {\n",
       "        text-align: right;\n",
       "    }\n",
       "</style>\n",
       "<table border=\"1\" class=\"dataframe\">\n",
       "  <thead>\n",
       "    <tr style=\"text-align: right;\">\n",
       "      <th>groupe</th>\n",
       "      <th>Unknown</th>\n",
       "      <th>ibo1</th>\n",
       "      <th>ibo2</th>\n",
       "      <th>ibo3</th>\n",
       "      <th>ibo4</th>\n",
       "      <th>ibo5</th>\n",
       "      <th>ibo6</th>\n",
       "      <th>ibo7</th>\n",
       "    </tr>\n",
       "    <tr>\n",
       "      <th>quizz</th>\n",
       "      <th></th>\n",
       "      <th></th>\n",
       "      <th></th>\n",
       "      <th></th>\n",
       "      <th></th>\n",
       "      <th></th>\n",
       "      <th></th>\n",
       "      <th></th>\n",
       "    </tr>\n",
       "  </thead>\n",
       "  <tbody>\n",
       "    <tr>\n",
       "      <th>td1</th>\n",
       "      <td>63.664022</td>\n",
       "      <td>67.618000</td>\n",
       "      <td>NaN</td>\n",
       "      <td>NaN</td>\n",
       "      <td>NaN</td>\n",
       "      <td>53.967407</td>\n",
       "      <td>NaN</td>\n",
       "      <td>74.875517</td>\n",
       "    </tr>\n",
       "    <tr>\n",
       "      <th>td2</th>\n",
       "      <td>NaN</td>\n",
       "      <td>94.666667</td>\n",
       "      <td>98.666667</td>\n",
       "      <td>88.666667</td>\n",
       "      <td>87.407407</td>\n",
       "      <td>90.000000</td>\n",
       "      <td>90.344828</td>\n",
       "      <td>85.714286</td>\n",
       "    </tr>\n",
       "    <tr>\n",
       "      <th>td3</th>\n",
       "      <td>NaN</td>\n",
       "      <td>90.739630</td>\n",
       "      <td>95.678148</td>\n",
       "      <td>88.887037</td>\n",
       "      <td>87.500000</td>\n",
       "      <td>90.475714</td>\n",
       "      <td>83.332857</td>\n",
       "      <td>94.642500</td>\n",
       "    </tr>\n",
       "    <tr>\n",
       "      <th>td4</th>\n",
       "      <td>NaN</td>\n",
       "      <td>96.666333</td>\n",
       "      <td>NaN</td>\n",
       "      <td>81.630357</td>\n",
       "      <td>89.009231</td>\n",
       "      <td>84.759667</td>\n",
       "      <td>76.529286</td>\n",
       "      <td>90.637931</td>\n",
       "    </tr>\n",
       "  </tbody>\n",
       "</table>\n",
       "</div>"
      ],
      "text/plain": [
       "groupe    Unknown       ibo1       ibo2       ibo3       ibo4       ibo5  \\\n",
       "quizz                                                                      \n",
       "td1     63.664022  67.618000        NaN        NaN        NaN  53.967407   \n",
       "td2           NaN  94.666667  98.666667  88.666667  87.407407  90.000000   \n",
       "td3           NaN  90.739630  95.678148  88.887037  87.500000  90.475714   \n",
       "td4           NaN  96.666333        NaN  81.630357  89.009231  84.759667   \n",
       "\n",
       "groupe       ibo6       ibo7  \n",
       "quizz                         \n",
       "td1           NaN  74.875517  \n",
       "td2     90.344828  85.714286  \n",
       "td3     83.332857  94.642500  \n",
       "td4     76.529286  90.637931  "
      ]
     },
     "execution_count": 45,
     "metadata": {},
     "output_type": "execute_result"
    }
   ],
   "source": [
    "df.groupby([\"groupe\", \"quizz\"])[\"note\"].mean().unstack(level=0) # mean est une fonction d'aggrégation = moyenne"
   ]
  },
  {
   "cell_type": "code",
   "execution_count": 46,
   "metadata": {},
   "outputs": [
    {
     "data": {
      "text/html": [
       "<div>\n",
       "<style scoped>\n",
       "    .dataframe tbody tr th:only-of-type {\n",
       "        vertical-align: middle;\n",
       "    }\n",
       "\n",
       "    .dataframe tbody tr th {\n",
       "        vertical-align: top;\n",
       "    }\n",
       "\n",
       "    .dataframe thead th {\n",
       "        text-align: right;\n",
       "    }\n",
       "</style>\n",
       "<table border=\"1\" class=\"dataframe\">\n",
       "  <thead>\n",
       "    <tr style=\"text-align: right;\">\n",
       "      <th></th>\n",
       "      <th>eleve</th>\n",
       "      <th>note</th>\n",
       "      <th>groupe</th>\n",
       "      <th>quizz</th>\n",
       "      <th>conserveeOUpas</th>\n",
       "      <th>intervalle</th>\n",
       "    </tr>\n",
       "  </thead>\n",
       "  <tbody>\n",
       "  </tbody>\n",
       "</table>\n",
       "</div>"
      ],
      "text/plain": [
       "Empty DataFrame\n",
       "Columns: [eleve, note, groupe, quizz, conserveeOUpas, intervalle]\n",
       "Index: []"
      ]
     },
     "execution_count": 46,
     "metadata": {},
     "output_type": "execute_result"
    }
   ],
   "source": [
    "df[ (df.groupe == \"ibo2\") & (df.quizz == \"td1\")]"
   ]
  },
  {
   "cell_type": "code",
   "execution_count": 47,
   "metadata": {},
   "outputs": [
    {
     "data": {
      "text/html": [
       "<div>\n",
       "<style scoped>\n",
       "    .dataframe tbody tr th:only-of-type {\n",
       "        vertical-align: middle;\n",
       "    }\n",
       "\n",
       "    .dataframe tbody tr th {\n",
       "        vertical-align: top;\n",
       "    }\n",
       "\n",
       "    .dataframe thead th {\n",
       "        text-align: right;\n",
       "    }\n",
       "</style>\n",
       "<table border=\"1\" class=\"dataframe\">\n",
       "  <thead>\n",
       "    <tr style=\"text-align: right;\">\n",
       "      <th></th>\n",
       "      <th>eleve</th>\n",
       "      <th>note</th>\n",
       "      <th>groupe</th>\n",
       "      <th>quizz</th>\n",
       "      <th>conserveeOUpas</th>\n",
       "      <th>intervalle</th>\n",
       "    </tr>\n",
       "  </thead>\n",
       "  <tbody>\n",
       "    <tr>\n",
       "      <th>277</th>\n",
       "      <td>eleve102</td>\n",
       "      <td>57.14</td>\n",
       "      <td>ibo1</td>\n",
       "      <td>td1</td>\n",
       "      <td>NOTE CONSERVEE</td>\n",
       "      <td>Moyen</td>\n",
       "    </tr>\n",
       "    <tr>\n",
       "      <th>278</th>\n",
       "      <td>eleve103</td>\n",
       "      <td>42.86</td>\n",
       "      <td>ibo1</td>\n",
       "      <td>td1</td>\n",
       "      <td>NOTE CONSERVEE</td>\n",
       "      <td>Bad</td>\n",
       "    </tr>\n",
       "    <tr>\n",
       "      <th>279</th>\n",
       "      <td>eleve106</td>\n",
       "      <td>85.71</td>\n",
       "      <td>ibo1</td>\n",
       "      <td>td1</td>\n",
       "      <td>NOTE CONSERVEE</td>\n",
       "      <td>Bon</td>\n",
       "    </tr>\n",
       "    <tr>\n",
       "      <th>280</th>\n",
       "      <td>eleve110</td>\n",
       "      <td>85.71</td>\n",
       "      <td>ibo1</td>\n",
       "      <td>td1</td>\n",
       "      <td>NOTE CONSERVEE</td>\n",
       "      <td>Bon</td>\n",
       "    </tr>\n",
       "    <tr>\n",
       "      <th>264</th>\n",
       "      <td>eleve12</td>\n",
       "      <td>100.00</td>\n",
       "      <td>ibo1</td>\n",
       "      <td>td1</td>\n",
       "      <td>NOTE CONSERVEE</td>\n",
       "      <td>Bon</td>\n",
       "    </tr>\n",
       "    <tr>\n",
       "      <th>282</th>\n",
       "      <td>eleve131</td>\n",
       "      <td>71.43</td>\n",
       "      <td>ibo1</td>\n",
       "      <td>td1</td>\n",
       "      <td>NOTE CONSERVEE</td>\n",
       "      <td>Moyen</td>\n",
       "    </tr>\n",
       "    <tr>\n",
       "      <th>281</th>\n",
       "      <td>eleve133</td>\n",
       "      <td>71.43</td>\n",
       "      <td>ibo1</td>\n",
       "      <td>td1</td>\n",
       "      <td>NOTE CONSERVEE</td>\n",
       "      <td>Moyen</td>\n",
       "    </tr>\n",
       "    <tr>\n",
       "      <th>283</th>\n",
       "      <td>eleve147</td>\n",
       "      <td>71.43</td>\n",
       "      <td>ibo1</td>\n",
       "      <td>td1</td>\n",
       "      <td>NOTE CONSERVEE</td>\n",
       "      <td>Moyen</td>\n",
       "    </tr>\n",
       "    <tr>\n",
       "      <th>284</th>\n",
       "      <td>eleve153</td>\n",
       "      <td>42.86</td>\n",
       "      <td>ibo1</td>\n",
       "      <td>td1</td>\n",
       "      <td>NOTE CONSERVEE</td>\n",
       "      <td>Bad</td>\n",
       "    </tr>\n",
       "    <tr>\n",
       "      <th>285</th>\n",
       "      <td>eleve154</td>\n",
       "      <td>100.00</td>\n",
       "      <td>ibo1</td>\n",
       "      <td>td1</td>\n",
       "      <td>NOTE CONSERVEE</td>\n",
       "      <td>Bon</td>\n",
       "    </tr>\n",
       "    <tr>\n",
       "      <th>286</th>\n",
       "      <td>eleve164</td>\n",
       "      <td>57.14</td>\n",
       "      <td>ibo1</td>\n",
       "      <td>td1</td>\n",
       "      <td>NOTE CONSERVEE</td>\n",
       "      <td>Moyen</td>\n",
       "    </tr>\n",
       "    <tr>\n",
       "      <th>287</th>\n",
       "      <td>eleve178</td>\n",
       "      <td>71.43</td>\n",
       "      <td>ibo1</td>\n",
       "      <td>td1</td>\n",
       "      <td>NOTE CONSERVEE</td>\n",
       "      <td>Moyen</td>\n",
       "    </tr>\n",
       "    <tr>\n",
       "      <th>288</th>\n",
       "      <td>eleve179</td>\n",
       "      <td>57.14</td>\n",
       "      <td>ibo1</td>\n",
       "      <td>td1</td>\n",
       "      <td>NOTE CONSERVEE</td>\n",
       "      <td>Moyen</td>\n",
       "    </tr>\n",
       "    <tr>\n",
       "      <th>265</th>\n",
       "      <td>eleve18</td>\n",
       "      <td>57.14</td>\n",
       "      <td>ibo1</td>\n",
       "      <td>td1</td>\n",
       "      <td>NOTE CONSERVEE</td>\n",
       "      <td>Moyen</td>\n",
       "    </tr>\n",
       "    <tr>\n",
       "      <th>289</th>\n",
       "      <td>eleve197</td>\n",
       "      <td>57.14</td>\n",
       "      <td>ibo1</td>\n",
       "      <td>td1</td>\n",
       "      <td>NOTE CONSERVEE</td>\n",
       "      <td>Moyen</td>\n",
       "    </tr>\n",
       "    <tr>\n",
       "      <th>290</th>\n",
       "      <td>eleve199</td>\n",
       "      <td>57.14</td>\n",
       "      <td>ibo1</td>\n",
       "      <td>td1</td>\n",
       "      <td>NOTE CONSERVEE</td>\n",
       "      <td>Moyen</td>\n",
       "    </tr>\n",
       "    <tr>\n",
       "      <th>266</th>\n",
       "      <td>eleve20</td>\n",
       "      <td>85.71</td>\n",
       "      <td>ibo1</td>\n",
       "      <td>td1</td>\n",
       "      <td>NOTE CONSERVEE</td>\n",
       "      <td>Bon</td>\n",
       "    </tr>\n",
       "    <tr>\n",
       "      <th>291</th>\n",
       "      <td>eleve201</td>\n",
       "      <td>57.14</td>\n",
       "      <td>ibo1</td>\n",
       "      <td>td1</td>\n",
       "      <td>NOTE CONSERVEE</td>\n",
       "      <td>Moyen</td>\n",
       "    </tr>\n",
       "    <tr>\n",
       "      <th>292</th>\n",
       "      <td>eleve206</td>\n",
       "      <td>28.57</td>\n",
       "      <td>ibo1</td>\n",
       "      <td>td1</td>\n",
       "      <td>NOTE CONSERVEE</td>\n",
       "      <td>Bad</td>\n",
       "    </tr>\n",
       "    <tr>\n",
       "      <th>267</th>\n",
       "      <td>eleve27</td>\n",
       "      <td>57.14</td>\n",
       "      <td>ibo1</td>\n",
       "      <td>td1</td>\n",
       "      <td>NOTE CONSERVEE</td>\n",
       "      <td>Moyen</td>\n",
       "    </tr>\n",
       "    <tr>\n",
       "      <th>263</th>\n",
       "      <td>eleve3</td>\n",
       "      <td>85.71</td>\n",
       "      <td>ibo1</td>\n",
       "      <td>td1</td>\n",
       "      <td>NOTE CONSERVEE</td>\n",
       "      <td>Bon</td>\n",
       "    </tr>\n",
       "    <tr>\n",
       "      <th>268</th>\n",
       "      <td>eleve31</td>\n",
       "      <td>100.00</td>\n",
       "      <td>ibo1</td>\n",
       "      <td>td1</td>\n",
       "      <td>NOTE CONSERVEE</td>\n",
       "      <td>Bon</td>\n",
       "    </tr>\n",
       "    <tr>\n",
       "      <th>269</th>\n",
       "      <td>eleve33</td>\n",
       "      <td>57.14</td>\n",
       "      <td>ibo1</td>\n",
       "      <td>td1</td>\n",
       "      <td>NOTE CONSERVEE</td>\n",
       "      <td>Moyen</td>\n",
       "    </tr>\n",
       "    <tr>\n",
       "      <th>270</th>\n",
       "      <td>eleve34</td>\n",
       "      <td>42.86</td>\n",
       "      <td>ibo1</td>\n",
       "      <td>td1</td>\n",
       "      <td>NOTE CONSERVEE</td>\n",
       "      <td>Bad</td>\n",
       "    </tr>\n",
       "    <tr>\n",
       "      <th>272</th>\n",
       "      <td>eleve45</td>\n",
       "      <td>71.43</td>\n",
       "      <td>ibo1</td>\n",
       "      <td>td1</td>\n",
       "      <td>NOTE CONSERVEE</td>\n",
       "      <td>Moyen</td>\n",
       "    </tr>\n",
       "    <tr>\n",
       "      <th>271</th>\n",
       "      <td>eleve46</td>\n",
       "      <td>85.71</td>\n",
       "      <td>ibo1</td>\n",
       "      <td>td1</td>\n",
       "      <td>NOTE CONSERVEE</td>\n",
       "      <td>Bon</td>\n",
       "    </tr>\n",
       "    <tr>\n",
       "      <th>273</th>\n",
       "      <td>eleve47</td>\n",
       "      <td>100.00</td>\n",
       "      <td>ibo1</td>\n",
       "      <td>td1</td>\n",
       "      <td>NOTE CONSERVEE</td>\n",
       "      <td>Bon</td>\n",
       "    </tr>\n",
       "    <tr>\n",
       "      <th>274</th>\n",
       "      <td>eleve77</td>\n",
       "      <td>71.43</td>\n",
       "      <td>ibo1</td>\n",
       "      <td>td1</td>\n",
       "      <td>NOTE CONSERVEE</td>\n",
       "      <td>Moyen</td>\n",
       "    </tr>\n",
       "    <tr>\n",
       "      <th>276</th>\n",
       "      <td>eleve91</td>\n",
       "      <td>57.14</td>\n",
       "      <td>ibo1</td>\n",
       "      <td>td1</td>\n",
       "      <td>NOTE CONSERVEE</td>\n",
       "      <td>Moyen</td>\n",
       "    </tr>\n",
       "    <tr>\n",
       "      <th>275</th>\n",
       "      <td>eleve96</td>\n",
       "      <td>42.86</td>\n",
       "      <td>ibo1</td>\n",
       "      <td>td1</td>\n",
       "      <td>NOTE CONSERVEE</td>\n",
       "      <td>Bad</td>\n",
       "    </tr>\n",
       "  </tbody>\n",
       "</table>\n",
       "</div>"
      ],
      "text/plain": [
       "        eleve    note groupe quizz  conserveeOUpas intervalle\n",
       "277  eleve102   57.14   ibo1   td1  NOTE CONSERVEE      Moyen\n",
       "278  eleve103   42.86   ibo1   td1  NOTE CONSERVEE        Bad\n",
       "279  eleve106   85.71   ibo1   td1  NOTE CONSERVEE        Bon\n",
       "280  eleve110   85.71   ibo1   td1  NOTE CONSERVEE        Bon\n",
       "264   eleve12  100.00   ibo1   td1  NOTE CONSERVEE        Bon\n",
       "282  eleve131   71.43   ibo1   td1  NOTE CONSERVEE      Moyen\n",
       "281  eleve133   71.43   ibo1   td1  NOTE CONSERVEE      Moyen\n",
       "283  eleve147   71.43   ibo1   td1  NOTE CONSERVEE      Moyen\n",
       "284  eleve153   42.86   ibo1   td1  NOTE CONSERVEE        Bad\n",
       "285  eleve154  100.00   ibo1   td1  NOTE CONSERVEE        Bon\n",
       "286  eleve164   57.14   ibo1   td1  NOTE CONSERVEE      Moyen\n",
       "287  eleve178   71.43   ibo1   td1  NOTE CONSERVEE      Moyen\n",
       "288  eleve179   57.14   ibo1   td1  NOTE CONSERVEE      Moyen\n",
       "265   eleve18   57.14   ibo1   td1  NOTE CONSERVEE      Moyen\n",
       "289  eleve197   57.14   ibo1   td1  NOTE CONSERVEE      Moyen\n",
       "290  eleve199   57.14   ibo1   td1  NOTE CONSERVEE      Moyen\n",
       "266   eleve20   85.71   ibo1   td1  NOTE CONSERVEE        Bon\n",
       "291  eleve201   57.14   ibo1   td1  NOTE CONSERVEE      Moyen\n",
       "292  eleve206   28.57   ibo1   td1  NOTE CONSERVEE        Bad\n",
       "267   eleve27   57.14   ibo1   td1  NOTE CONSERVEE      Moyen\n",
       "263    eleve3   85.71   ibo1   td1  NOTE CONSERVEE        Bon\n",
       "268   eleve31  100.00   ibo1   td1  NOTE CONSERVEE        Bon\n",
       "269   eleve33   57.14   ibo1   td1  NOTE CONSERVEE      Moyen\n",
       "270   eleve34   42.86   ibo1   td1  NOTE CONSERVEE        Bad\n",
       "272   eleve45   71.43   ibo1   td1  NOTE CONSERVEE      Moyen\n",
       "271   eleve46   85.71   ibo1   td1  NOTE CONSERVEE        Bon\n",
       "273   eleve47  100.00   ibo1   td1  NOTE CONSERVEE        Bon\n",
       "274   eleve77   71.43   ibo1   td1  NOTE CONSERVEE      Moyen\n",
       "276   eleve91   57.14   ibo1   td1  NOTE CONSERVEE      Moyen\n",
       "275   eleve96   42.86   ibo1   td1  NOTE CONSERVEE        Bad"
      ]
     },
     "execution_count": 47,
     "metadata": {},
     "output_type": "execute_result"
    }
   ],
   "source": [
    "df[ (df.groupe == \"ibo1\") & (df.quizz == \"td1\")]"
   ]
  },
  {
   "cell_type": "code",
   "execution_count": 48,
   "metadata": {},
   "outputs": [
    {
     "data": {
      "text/html": [
       "<div>\n",
       "<style scoped>\n",
       "    .dataframe tbody tr th:only-of-type {\n",
       "        vertical-align: middle;\n",
       "    }\n",
       "\n",
       "    .dataframe tbody tr th {\n",
       "        vertical-align: top;\n",
       "    }\n",
       "\n",
       "    .dataframe thead th {\n",
       "        text-align: right;\n",
       "    }\n",
       "</style>\n",
       "<table border=\"1\" class=\"dataframe\">\n",
       "  <thead>\n",
       "    <tr style=\"text-align: right;\">\n",
       "      <th></th>\n",
       "      <th>eleve</th>\n",
       "      <th>note</th>\n",
       "      <th>groupe</th>\n",
       "      <th>quizz</th>\n",
       "      <th>conserveeOUpas</th>\n",
       "      <th>intervalle</th>\n",
       "    </tr>\n",
       "  </thead>\n",
       "  <tbody>\n",
       "    <tr>\n",
       "      <th>0</th>\n",
       "      <td>eleve0</td>\n",
       "      <td>71.43</td>\n",
       "      <td>Unknown</td>\n",
       "      <td>td1</td>\n",
       "      <td>NOTE CONSERVEE</td>\n",
       "      <td>Moyen</td>\n",
       "    </tr>\n",
       "    <tr>\n",
       "      <th>444</th>\n",
       "      <td>eleve0</td>\n",
       "      <td>80.00</td>\n",
       "      <td>ibo2</td>\n",
       "      <td>td2</td>\n",
       "      <td>NOTE ANNULEE</td>\n",
       "      <td>Bon</td>\n",
       "    </tr>\n",
       "    <tr>\n",
       "      <th>691</th>\n",
       "      <td>eleve0</td>\n",
       "      <td>100.00</td>\n",
       "      <td>ibo2</td>\n",
       "      <td>td3</td>\n",
       "      <td>NOTE CONSERVEE</td>\n",
       "      <td>Bon</td>\n",
       "    </tr>\n",
       "  </tbody>\n",
       "</table>\n",
       "</div>"
      ],
      "text/plain": [
       "      eleve    note   groupe quizz  conserveeOUpas intervalle\n",
       "0    eleve0   71.43  Unknown   td1  NOTE CONSERVEE      Moyen\n",
       "444  eleve0   80.00     ibo2   td2    NOTE ANNULEE        Bon\n",
       "691  eleve0  100.00     ibo2   td3  NOTE CONSERVEE        Bon"
      ]
     },
     "execution_count": 48,
     "metadata": {},
     "output_type": "execute_result"
    }
   ],
   "source": [
    "df.head(3)"
   ]
  },
  {
   "cell_type": "code",
   "execution_count": 49,
   "metadata": {},
   "outputs": [
    {
     "ename": "NameError",
     "evalue": "name 'np' is not defined",
     "output_type": "error",
     "traceback": [
      "\u001b[0;31m---------------------------------------------------------------------------\u001b[0m",
      "\u001b[0;31mNameError\u001b[0m                                 Traceback (most recent call last)",
      "\u001b[0;32m<ipython-input-49-f9cb8650899a>\u001b[0m in \u001b[0;36m<module>\u001b[0;34m\u001b[0m\n\u001b[0;32m----> 1\u001b[0;31m \u001b[0mdf\u001b[0m\u001b[0;34m.\u001b[0m\u001b[0mgroupe\u001b[0m\u001b[0;34m.\u001b[0m\u001b[0mreplace\u001b[0m\u001b[0;34m(\u001b[0m\u001b[0;34m\"Unknown\"\u001b[0m\u001b[0;34m,\u001b[0m \u001b[0mnp\u001b[0m\u001b[0;34m.\u001b[0m\u001b[0mNaN\u001b[0m\u001b[0;34m,\u001b[0m \u001b[0minplace\u001b[0m\u001b[0;34m=\u001b[0m\u001b[0;32mTrue\u001b[0m\u001b[0;34m)\u001b[0m\u001b[0;34m\u001b[0m\u001b[0;34m\u001b[0m\u001b[0m\n\u001b[0m",
      "\u001b[0;31mNameError\u001b[0m: name 'np' is not defined"
     ]
    }
   ],
   "source": [
    "df.groupe.replace(\"Unknown\", np.NaN, inplace=True)"
   ]
  },
  {
   "cell_type": "code",
   "execution_count": 50,
   "metadata": {},
   "outputs": [],
   "source": [
    "def function(x):\n",
    "    return x**2"
   ]
  },
  {
   "cell_type": "code",
   "execution_count": 51,
   "metadata": {},
   "outputs": [
    {
     "data": {
      "text/html": [
       "<div>\n",
       "<style scoped>\n",
       "    .dataframe tbody tr th:only-of-type {\n",
       "        vertical-align: middle;\n",
       "    }\n",
       "\n",
       "    .dataframe tbody tr th {\n",
       "        vertical-align: top;\n",
       "    }\n",
       "\n",
       "    .dataframe thead th {\n",
       "        text-align: right;\n",
       "    }\n",
       "</style>\n",
       "<table border=\"1\" class=\"dataframe\">\n",
       "  <thead>\n",
       "    <tr style=\"text-align: right;\">\n",
       "      <th></th>\n",
       "      <th>eleve</th>\n",
       "      <th>note</th>\n",
       "      <th>groupe</th>\n",
       "      <th>quizz</th>\n",
       "      <th>conserveeOUpas</th>\n",
       "      <th>intervalle</th>\n",
       "    </tr>\n",
       "  </thead>\n",
       "  <tbody>\n",
       "    <tr>\n",
       "      <th>0</th>\n",
       "      <td>eleve0</td>\n",
       "      <td>71.43</td>\n",
       "      <td>Unknown</td>\n",
       "      <td>td1</td>\n",
       "      <td>NOTE CONSERVEE</td>\n",
       "      <td>Moyen</td>\n",
       "    </tr>\n",
       "    <tr>\n",
       "      <th>444</th>\n",
       "      <td>eleve0</td>\n",
       "      <td>80.00</td>\n",
       "      <td>ibo2</td>\n",
       "      <td>td2</td>\n",
       "      <td>NOTE ANNULEE</td>\n",
       "      <td>Bon</td>\n",
       "    </tr>\n",
       "    <tr>\n",
       "      <th>691</th>\n",
       "      <td>eleve0</td>\n",
       "      <td>100.00</td>\n",
       "      <td>ibo2</td>\n",
       "      <td>td3</td>\n",
       "      <td>NOTE CONSERVEE</td>\n",
       "      <td>Bon</td>\n",
       "    </tr>\n",
       "    <tr>\n",
       "      <th>445</th>\n",
       "      <td>eleve1</td>\n",
       "      <td>100.00</td>\n",
       "      <td>ibo2</td>\n",
       "      <td>td2</td>\n",
       "      <td>NOTE ANNULEE</td>\n",
       "      <td>Bon</td>\n",
       "    </tr>\n",
       "    <tr>\n",
       "      <th>692</th>\n",
       "      <td>eleve1</td>\n",
       "      <td>100.00</td>\n",
       "      <td>ibo2</td>\n",
       "      <td>td3</td>\n",
       "      <td>NOTE CONSERVEE</td>\n",
       "      <td>Bon</td>\n",
       "    </tr>\n",
       "  </tbody>\n",
       "</table>\n",
       "</div>"
      ],
      "text/plain": [
       "      eleve    note   groupe quizz  conserveeOUpas intervalle\n",
       "0    eleve0   71.43  Unknown   td1  NOTE CONSERVEE      Moyen\n",
       "444  eleve0   80.00     ibo2   td2    NOTE ANNULEE        Bon\n",
       "691  eleve0  100.00     ibo2   td3  NOTE CONSERVEE        Bon\n",
       "445  eleve1  100.00     ibo2   td2    NOTE ANNULEE        Bon\n",
       "692  eleve1  100.00     ibo2   td3  NOTE CONSERVEE        Bon"
      ]
     },
     "execution_count": 51,
     "metadata": {},
     "output_type": "execute_result"
    }
   ],
   "source": [
    "df.head()"
   ]
  },
  {
   "cell_type": "code",
   "execution_count": 52,
   "metadata": {
    "scrolled": true
   },
   "outputs": [],
   "source": [
    "df[\"groupe\"] = df.groupby(\"eleve\")[\"groupe\"].transform(lambda x: x.bfill().ffill())"
   ]
  },
  {
   "cell_type": "code",
   "execution_count": 53,
   "metadata": {},
   "outputs": [
    {
     "data": {
      "text/html": [
       "<div>\n",
       "<style scoped>\n",
       "    .dataframe tbody tr th:only-of-type {\n",
       "        vertical-align: middle;\n",
       "    }\n",
       "\n",
       "    .dataframe tbody tr th {\n",
       "        vertical-align: top;\n",
       "    }\n",
       "\n",
       "    .dataframe thead th {\n",
       "        text-align: right;\n",
       "    }\n",
       "</style>\n",
       "<table border=\"1\" class=\"dataframe\">\n",
       "  <thead>\n",
       "    <tr style=\"text-align: right;\">\n",
       "      <th>groupe</th>\n",
       "      <th>Unknown</th>\n",
       "      <th>ibo1</th>\n",
       "      <th>ibo2</th>\n",
       "      <th>ibo3</th>\n",
       "      <th>ibo4</th>\n",
       "      <th>ibo5</th>\n",
       "      <th>ibo6</th>\n",
       "      <th>ibo7</th>\n",
       "    </tr>\n",
       "    <tr>\n",
       "      <th>quizz</th>\n",
       "      <th></th>\n",
       "      <th></th>\n",
       "      <th></th>\n",
       "      <th></th>\n",
       "      <th></th>\n",
       "      <th></th>\n",
       "      <th></th>\n",
       "      <th></th>\n",
       "    </tr>\n",
       "  </thead>\n",
       "  <tbody>\n",
       "    <tr>\n",
       "      <th>td1</th>\n",
       "      <td>63.664022</td>\n",
       "      <td>67.618000</td>\n",
       "      <td>NaN</td>\n",
       "      <td>NaN</td>\n",
       "      <td>NaN</td>\n",
       "      <td>53.967407</td>\n",
       "      <td>NaN</td>\n",
       "      <td>74.875517</td>\n",
       "    </tr>\n",
       "    <tr>\n",
       "      <th>td2</th>\n",
       "      <td>NaN</td>\n",
       "      <td>94.666667</td>\n",
       "      <td>98.666667</td>\n",
       "      <td>88.666667</td>\n",
       "      <td>87.407407</td>\n",
       "      <td>90.000000</td>\n",
       "      <td>90.344828</td>\n",
       "      <td>85.714286</td>\n",
       "    </tr>\n",
       "    <tr>\n",
       "      <th>td3</th>\n",
       "      <td>NaN</td>\n",
       "      <td>90.739630</td>\n",
       "      <td>95.678148</td>\n",
       "      <td>88.887037</td>\n",
       "      <td>87.500000</td>\n",
       "      <td>90.475714</td>\n",
       "      <td>83.332857</td>\n",
       "      <td>94.642500</td>\n",
       "    </tr>\n",
       "    <tr>\n",
       "      <th>td4</th>\n",
       "      <td>NaN</td>\n",
       "      <td>96.666333</td>\n",
       "      <td>NaN</td>\n",
       "      <td>81.630357</td>\n",
       "      <td>89.009231</td>\n",
       "      <td>84.759667</td>\n",
       "      <td>76.529286</td>\n",
       "      <td>90.637931</td>\n",
       "    </tr>\n",
       "  </tbody>\n",
       "</table>\n",
       "</div>"
      ],
      "text/plain": [
       "groupe    Unknown       ibo1       ibo2       ibo3       ibo4       ibo5  \\\n",
       "quizz                                                                      \n",
       "td1     63.664022  67.618000        NaN        NaN        NaN  53.967407   \n",
       "td2           NaN  94.666667  98.666667  88.666667  87.407407  90.000000   \n",
       "td3           NaN  90.739630  95.678148  88.887037  87.500000  90.475714   \n",
       "td4           NaN  96.666333        NaN  81.630357  89.009231  84.759667   \n",
       "\n",
       "groupe       ibo6       ibo7  \n",
       "quizz                         \n",
       "td1           NaN  74.875517  \n",
       "td2     90.344828  85.714286  \n",
       "td3     83.332857  94.642500  \n",
       "td4     76.529286  90.637931  "
      ]
     },
     "execution_count": 53,
     "metadata": {},
     "output_type": "execute_result"
    }
   ],
   "source": [
    "df.groupby([\"groupe\", \"quizz\"])[\"note\"].mean().unstack(level=0) # mean est une fonction d'aggrégation = moyenne"
   ]
  },
  {
   "cell_type": "code",
   "execution_count": 54,
   "metadata": {},
   "outputs": [
    {
     "data": {
      "text/plain": [
       "groupe   quizz\n",
       "Unknown  td1      5857.09\n",
       "ibo1     td1      2028.54\n",
       "         td2      2840.00\n",
       "         td3      2449.97\n",
       "         td4      2899.99\n",
       "ibo2     td2      2960.00\n",
       "         td3      2583.31\n",
       "ibo3     td2      2660.00\n",
       "         td3      2399.95\n",
       "         td4      2285.65\n",
       "ibo4     td2      2360.00\n",
       "         td3      2450.00\n",
       "         td4      2314.24\n",
       "ibo5     td1      1457.12\n",
       "         td2      2700.00\n",
       "         td3      2533.32\n",
       "         td4      2542.79\n",
       "ibo6     td2      2620.00\n",
       "         td3      2333.32\n",
       "         td4      2142.82\n",
       "ibo7     td1      2171.39\n",
       "         td2      2400.00\n",
       "         td3      2649.99\n",
       "         td4      2628.50\n",
       "Name: note, dtype: float64"
      ]
     },
     "execution_count": 54,
     "metadata": {},
     "output_type": "execute_result"
    }
   ],
   "source": [
    "df.groupby([\"groupe\", \"quizz\"])[\"note\"].sum()"
   ]
  },
  {
   "cell_type": "code",
   "execution_count": 55,
   "metadata": {},
   "outputs": [
    {
     "name": "stdout",
     "output_type": "stream",
     "text": [
      "Requirement already satisfied: matplotlib in ./env/lib/python3.8/site-packages (3.3.2)\n",
      "Requirement already satisfied: certifi>=2020.06.20 in ./env/lib/python3.8/site-packages (from matplotlib) (2020.6.20)\n",
      "Requirement already satisfied: pillow>=6.2.0 in ./env/lib/python3.8/site-packages (from matplotlib) (7.2.0)\n",
      "Requirement already satisfied: python-dateutil>=2.1 in ./env/lib/python3.8/site-packages (from matplotlib) (2.8.1)\n",
      "Requirement already satisfied: numpy>=1.15 in ./env/lib/python3.8/site-packages (from matplotlib) (1.19.2)\n",
      "Requirement already satisfied: pyparsing!=2.0.4,!=2.1.2,!=2.1.6,>=2.0.3 in ./env/lib/python3.8/site-packages (from matplotlib) (2.4.7)\n",
      "Requirement already satisfied: kiwisolver>=1.0.1 in ./env/lib/python3.8/site-packages (from matplotlib) (1.2.0)\n",
      "Requirement already satisfied: cycler>=0.10 in ./env/lib/python3.8/site-packages (from matplotlib) (0.10.0)\n",
      "Requirement already satisfied: six>=1.5 in ./env/lib/python3.8/site-packages (from python-dateutil>=2.1->matplotlib) (1.15.0)\n",
      "\u001b[33mWARNING: You are using pip version 19.2.3, however version 20.2.3 is available.\n",
      "You should consider upgrading via the 'pip install --upgrade pip' command.\u001b[0m\n"
     ]
    }
   ],
   "source": [
    "!pip  install matplotlib"
   ]
  },
  {
   "cell_type": "code",
   "execution_count": 56,
   "metadata": {},
   "outputs": [],
   "source": [
    "import matplotlib.pyplot as plt"
   ]
  },
  {
   "cell_type": "code",
   "execution_count": 57,
   "metadata": {},
   "outputs": [],
   "source": [
    "%matplotlib inline"
   ]
  },
  {
   "cell_type": "code",
   "execution_count": 64,
   "metadata": {},
   "outputs": [
    {
     "data": {
      "text/plain": [
       "<AxesSubplot:xlabel='groupe,quizz'>"
      ]
     },
     "execution_count": 64,
     "metadata": {},
     "output_type": "execute_result"
    },
    {
     "data": {
      "image/png": "[encoded data removed]",
      "text/plain": [
       "<Figure size 432x288 with 1 Axes>"
      ]
     },
     "metadata": {
      "needs_background": "light"
     },
     "output_type": "display_data"
    }
   ],
   "source": [
    "df.groupby([\"groupe\", \"quizz\"])[\"intervalle\"].value_counts().unstack().plot(kind='bar')"
   ]
  },
  {
   "cell_type": "code",
   "execution_count": 68,
   "metadata": {},
   "outputs": [
    {
     "data": {
      "text/plain": [
       "<AxesSubplot:xlabel='groupe,quizz'>"
      ]
     },
     "execution_count": 68,
     "metadata": {},
     "output_type": "execute_result"
    },
    {
     "data": {
      "image/png": "[encoded data removed]",
      "text/plain": [
       "<Figure size 432x288 with 1 Axes>"
      ]
     },
     "metadata": {
      "needs_background": "light"
     },
     "output_type": "display_data"
    }
   ],
   "source": [
    "df.groupby([\"groupe\", \"quizz\"])[\"intervalle\"].value_counts().unstack(level=2).plot(kind='bar', stacked=True)"
   ]
  }
 ],
 "metadata": {
  "kernelspec": {
   "display_name": "Python 3",
   "language": "python",
   "name": "python3"
  },
  "language_info": {
   "codemirror_mode": {
    "name": "ipython",
    "version": 3
   },
   "file_extension": ".py",
   "mimetype": "text/x-python",
   "name": "python",
   "nbconvert_exporter": "python",
   "pygments_lexer": "ipython3",
   "version": "3.8.3"
  }
 },
 "nbformat": 4,
 "nbformat_minor": 4
}
