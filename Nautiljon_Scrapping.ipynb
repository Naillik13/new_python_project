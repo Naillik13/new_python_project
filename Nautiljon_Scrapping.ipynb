{
 "cells": [
  {
   "cell_type": "code",
   "execution_count": 1,
   "metadata": {},
   "outputs": [],
   "source": [
    "from selenium import webdriver\n",
    "import time\n",
    "import matplotlib.pyplot as plt\n",
    "%matplotlib inline"
   ]
  },
  {
   "cell_type": "code",
   "execution_count": 2,
   "metadata": {},
   "outputs": [],
   "source": [
    "driver = webdriver.Chrome('./chromedriver')\n",
    "driver.get(\"https://www.nautiljon.com/animes/%C3%A9t%C3%A9-2020.html?tri=p\")"
   ]
  },
  {
   "cell_type": "code",
   "execution_count": 3,
   "metadata": {},
   "outputs": [],
   "source": [
    "title_elements = driver.find_elements_by_css_selector('.elt .title h2')\n",
    "titles = [element.get_attribute('innerText') for element in title_elements]"
   ]
  },
  {
   "cell_type": "code",
   "execution_count": 4,
   "metadata": {},
   "outputs": [],
   "source": [
    "info_elements = driver.find_elements_by_css_selector('.elt .infos_top')\n",
    "types = []\n",
    "origins = []\n",
    "\n",
    "for info_element in info_elements:\n",
    "    infos = info_element.find_elements_by_css_selector('.infos span')\n",
    "    types.append(infos[0].get_attribute('innerHTML'))\n",
    "    if len(infos) > 6:\n",
    "        origins.append(infos[6].get_attribute('innerText'))\n",
    "    else:\n",
    "        origins.append('Non défini')"
   ]
  },
  {
   "cell_type": "code",
   "execution_count": 5,
   "metadata": {},
   "outputs": [],
   "source": [
    "note_elements = driver.find_elements_by_css_selector('.infos2')\n",
    "notes = [note_element.find_elements_by_css_selector('span')[1].get_attribute('innerText') for note_element in note_elements]"
   ]
  },
  {
   "cell_type": "code",
   "execution_count": 6,
   "metadata": {},
   "outputs": [],
   "source": [
    "import pandas as pd"
   ]
  },
  {
   "cell_type": "code",
   "execution_count": 7,
   "metadata": {},
   "outputs": [],
   "source": [
    "dataset = pd.DataFrame({\n",
    "    \"title\": titles,\n",
    "    \"type\":  types,\n",
    "    \"origin\": origins,\n",
    "    \"note\": notes\n",
    "})\n",
    "\n",
    "dataset.note = (dataset.note\n",
    ".str.replace('/10', '')\n",
    ".str.replace('-', 'NaN').astype(float))"
   ]
  },
  {
   "cell_type": "code",
   "execution_count": 8,
   "metadata": {},
   "outputs": [],
   "source": [
    "dataset[\"rate\"] = pd.cut(dataset.note, bins=[0, 5, 6, 8, 10], labels= ['Nul', 'Moyen','Bon', 'Très bon'])"
   ]
  },
  {
   "cell_type": "code",
   "execution_count": 9,
   "metadata": {},
   "outputs": [],
   "source": [
    "dataset.to_csv('./anime_summer_2020.csv')"
   ]
  },
  {
   "cell_type": "code",
   "execution_count": 10,
   "metadata": {},
   "outputs": [],
   "source": [
    "dataset_rating = dataset.groupby([\"origin\"])[\"rate\"].value_counts().unstack().fillna(0.0).astype(\"int\")"
   ]
  },
  {
   "cell_type": "code",
   "execution_count": 11,
   "metadata": {},
   "outputs": [
    {
     "data": {
      "text/plain": [
       "<AxesSubplot:xlabel='origin'>"
      ]
     },
     "execution_count": 11,
     "metadata": {},
     "output_type": "execute_result"
    },
    {
     "data": {
      "image/png": "[encoded data removed]",
      "text/plain": [
       "<Figure size 432x288 with 1 Axes>"
      ]
     },
     "metadata": {
      "needs_background": "light"
     },
     "output_type": "display_data"
    }
   ],
   "source": [
    "dataset_rating.plot(kind=\"bar\", stacked=True)"
   ]
  },
  {
   "cell_type": "code",
   "execution_count": 12,
   "metadata": {},
   "outputs": [],
   "source": [
    "dataset_rating.to_csv('./anime_rating_by_type_summer_2020.csv')"
   ]
  },
  {
   "cell_type": "code",
   "execution_count": 13,
   "metadata": {},
   "outputs": [],
   "source": [
    "driver.close()"
   ]
  }
 ],
 "metadata": {
  "kernelspec": {
   "display_name": "Python 3",
   "language": "python",
   "name": "python3"
  },
  "language_info": {
   "codemirror_mode": {
    "name": "ipython",
    "version": 3
   },
   "file_extension": ".py",
   "mimetype": "text/x-python",
   "name": "python",
   "nbconvert_exporter": "python",
   "pygments_lexer": "ipython3",
   "version": "3.8.3"
  }
 },
 "nbformat": 4,
 "nbformat_minor": 4
}
