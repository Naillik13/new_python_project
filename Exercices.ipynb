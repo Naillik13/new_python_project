{
 "cells": [
  {
   "cell_type": "markdown",
   "metadata": {},
   "source": [
    "# Exercice 1"
   ]
  },
  {
   "cell_type": "code",
   "execution_count": 1,
   "metadata": {},
   "outputs": [],
   "source": [
    "liste = [[1, 2], [3,4], [5,6], [7,8]]"
   ]
  },
  {
   "cell_type": "code",
   "execution_count": 2,
   "metadata": {},
   "outputs": [],
   "source": [
    "dico = {key:value for key, value in liste}"
   ]
  },
  {
   "cell_type": "code",
   "execution_count": 3,
   "metadata": {},
   "outputs": [
    {
     "name": "stdout",
     "output_type": "stream",
     "text": [
      "OUTPUT: {1: 2, 3: 4, 5: 6, 7: 8}\n"
     ]
    }
   ],
   "source": [
    "print(\"OUTPUT: {}\".format(dico))"
   ]
  },
  {
   "cell_type": "markdown",
   "metadata": {},
   "source": [
    "# Exercice 2"
   ]
  },
  {
   "cell_type": "code",
   "execution_count": 4,
   "metadata": {},
   "outputs": [],
   "source": [
    "text = \"\"\"Lorem ipsum dolor sit amet, consectetur adipiscing elit. Vestibulum sagittis neque turpis, in gravida erat tincidunt a. Maecenas lobortis rutrum arcu, in posuere dolor fermentum sed. Duis imperdiet laoreet nibh, a pretium lectus condimentum eget. Maecenas eu elit vitae nibh euismod lacinia et a tortor. Donec at egestas leo, eget molestie quam. Sed elementum scelerisque sapien, quis suscipit ex malesuada vel. Aenean non mollis erat, in tincidunt massa.\n",
    "\n",
    "Mauris semper, purus in dictum imperdiet, libero nunc bibendum ex, eget facilisis turpis lorem ac lorem. Sed bibendum scelerisque tortor vel dictum. Aliquam dignissim eget erat non mollis. Maecenas vehicula feugiat tortor, in vulputate ex molestie nec. Ut suscipit iaculis nulla, auctor elementum urna dapibus non. Fusce facilisis mollis tellus sit amet venenatis. Praesent metus enim, tincidunt posuere tellus et, placerat tincidunt justo.\n",
    "\n",
    "Nunc id gravida ipsum, id porttitor magna. Maecenas porttitor accumsan odio non mattis. Suspendisse ultrices eleifend tristique. Vivamus accumsan libero tortor, eu aliquam sapien iaculis sed. In congue quis mi sed condimentum. Ut est libero, condimentum sit amet sagittis eu, tincidunt sed risus. Suspendisse pharetra molestie rutrum. Cras bibendum, dui ac consectetur eleifend, leo leo laoreet nibh, eget tristique lorem enim a nisi.\n",
    "\n",
    "Duis a purus eu augue consectetur malesuada id nec ex. Pellentesque sed odio laoreet, imperdiet dui ut, sodales odio. Class aptent taciti sociosqu ad litora torquent per conubia nostra, per inceptos himenaeos. Donec interdum, tortor eu dapibus pharetra, libero nisi faucibus nisl, id malesuada felis diam id urna. Praesent est metus, gravida eu luctus vitae, egestas vel metus. Class aptent taciti sociosqu ad litora torquent per conubia nostra, per inceptos himenaeos. Cras suscipit malesuada dui, vitae faucibus libero mollis a. In posuere blandit augue, sed semper ante imperdiet sed. Cras egestas posuere augue at semper. Praesent fermentum nunc risus, vitae aliquet augue consectetur a. Fusce interdum orci nunc, non posuere ex venenatis id. Nam faucibus fringilla mollis. Nulla ac enim accumsan, accumsan risus sit amet, rutrum tellus. Praesent lacinia augue at pulvinar venenatis. Etiam nunc augue, suscipit a faucibus sed, sodales ut mauris.\n",
    "\n",
    "Quisque quis magna malesuada, ultricies leo eget, elementum est. Praesent enim purus, pretium a nisl quis, accumsan blandit sapien. Class aptent taciti sociosqu ad litora torquent per conubia nostra, per inceptos himenaeos. Mauris ultricies iaculis nunc, quis fringilla arcu bibendum ac. Integer eu sem eget dui tempor sagittis. Ut sit amet ipsum quis nisi porttitor pulvinar. Etiam suscipit, leo nec fringilla luctus, lacus est egestas augue, eget vestibulum augue diam non eros. Duis posuere ac magna eget ullamcorper.\n",
    "\"\"\""
   ]
  },
  {
   "cell_type": "markdown",
   "metadata": {},
   "source": [
    "## Simple dict"
   ]
  },
  {
   "cell_type": "code",
   "execution_count": 5,
   "metadata": {
    "scrolled": true
   },
   "outputs": [
    {
     "name": "stdout",
     "output_type": "stream",
     "text": [
      "{'L': 1, 'o': 108, 'r': 128, 'e': 285, 'm': 99, ' ': 410, 'i': 229, 'p': 59, 's': 203, 'u': 190, 'd': 71, 'l': 106, 't': 196, 'a': 192, ',': 47, 'c': 96, 'n': 147, 'g': 38, '.': 46, 'V': 2, 'b': 30, 'q': 23, 'v': 19, 'M': 6, 'f': 15, 'D': 5, 'h': 9, 'S': 4, 'x': 5, 'A': 2, '\\n': 9, 'U': 3, 'F': 2, 'P': 6, 'j': 1, 'N': 3, 'I': 3, 'C': 6, 'E': 2, 'Q': 1}\n"
     ]
    }
   ],
   "source": [
    "dico = {}\n",
    "for letter in list(text):\n",
    "    if letter in dico:\n",
    "        dico[letter] += 1\n",
    "    else:\n",
    "        dico[letter] = 1\n",
    "    \n",
    "print(dico)"
   ]
  },
  {
   "cell_type": "markdown",
   "metadata": {},
   "source": [
    "## Defaultdict"
   ]
  },
  {
   "cell_type": "code",
   "execution_count": 6,
   "metadata": {},
   "outputs": [
    {
     "name": "stdout",
     "output_type": "stream",
     "text": [
      "defaultdict(<class 'int'>, {'L': 1, 'o': 108, 'r': 128, 'e': 285, 'm': 99, ' ': 410, 'i': 229, 'p': 59, 's': 203, 'u': 190, 'd': 71, 'l': 106, 't': 196, 'a': 192, ',': 47, 'c': 96, 'n': 147, 'g': 38, '.': 46, 'V': 2, 'b': 30, 'q': 23, 'v': 19, 'M': 6, 'f': 15, 'D': 5, 'h': 9, 'S': 4, 'x': 5, 'A': 2, '\\n': 9, 'U': 3, 'F': 2, 'P': 6, 'j': 1, 'N': 3, 'I': 3, 'C': 6, 'E': 2, 'Q': 1})\n"
     ]
    }
   ],
   "source": [
    "from collections import defaultdict\n",
    "\n",
    "default_dico = defaultdict(int)\n",
    "for letter in list(text):\n",
    "    default_dico[letter] += 1\n",
    "    \n",
    "print(default_dico)"
   ]
  },
  {
   "cell_type": "markdown",
   "metadata": {},
   "source": [
    "## Counter"
   ]
  },
  {
   "cell_type": "code",
   "execution_count": 7,
   "metadata": {},
   "outputs": [
    {
     "name": "stdout",
     "output_type": "stream",
     "text": [
      "Counter({' ': 410, 'e': 285, 'i': 229, 's': 203, 't': 196, 'a': 192, 'u': 190, 'n': 147, 'r': 128, 'o': 108, 'l': 106, 'm': 99, 'c': 96, 'd': 71, 'p': 59, ',': 47, '.': 46, 'g': 38, 'b': 30, 'q': 23, 'v': 19, 'f': 15, 'h': 9, '\\n': 9, 'M': 6, 'P': 6, 'C': 6, 'D': 5, 'x': 5, 'S': 4, 'U': 3, 'N': 3, 'I': 3, 'V': 2, 'A': 2, 'F': 2, 'E': 2, 'L': 1, 'j': 1, 'Q': 1})\n"
     ]
    }
   ],
   "source": [
    "from collections import Counter\n",
    "\n",
    "counter = Counter(text)\n",
    "    \n",
    "print(counter)"
   ]
  },
  {
   "cell_type": "markdown",
   "metadata": {},
   "source": [
    "# Exercice 3"
   ]
  },
  {
   "cell_type": "markdown",
   "metadata": {},
   "source": [
    "## Without Ordereddict"
   ]
  },
  {
   "cell_type": "code",
   "execution_count": 8,
   "metadata": {},
   "outputs": [],
   "source": [
    "x = {1: 2, 3: 4, 4: 3, 2: 1, 0: 0}"
   ]
  },
  {
   "cell_type": "code",
   "execution_count": 9,
   "metadata": {},
   "outputs": [],
   "source": [
    "sorted_x = {k: v for k, v in sorted(x.items(), key=lambda item: item[1])}"
   ]
  },
  {
   "cell_type": "code",
   "execution_count": 10,
   "metadata": {
    "scrolled": true
   },
   "outputs": [
    {
     "name": "stdout",
     "output_type": "stream",
     "text": [
      "{0: 0, 2: 1, 1: 2, 4: 3, 3: 4}\n"
     ]
    }
   ],
   "source": [
    "print(sorted_x)"
   ]
  },
  {
   "cell_type": "markdown",
   "metadata": {},
   "source": [
    "# Exercie 4"
   ]
  },
  {
   "cell_type": "code",
   "execution_count": 11,
   "metadata": {},
   "outputs": [],
   "source": [
    "class NbFunctionCalls:\n",
    "        \n",
    "    def __init__(self, function):\n",
    "        self.function = function\n",
    "        self.counter = 0\n",
    "        \n",
    "    def __call__(self, *args):\n",
    "        self.counter += 1\n",
    "        return self.function(*args)\n"
   ]
  },
  {
   "cell_type": "code",
   "execution_count": 12,
   "metadata": {},
   "outputs": [],
   "source": [
    "@NbFunctionCalls\n",
    "def somme(*args):\n",
    "    somme = 0\n",
    "    for number in args:\n",
    "        somme += number\n",
    "    return somme"
   ]
  },
  {
   "cell_type": "code",
   "execution_count": 32,
   "metadata": {},
   "outputs": [
    {
     "name": "stdout",
     "output_type": "stream",
     "text": [
      "15\n",
      "10\n",
      "28\n"
     ]
    }
   ],
   "source": [
    "print(somme(1,2,3,4,5))\n",
    "print(somme(1,4,5))\n",
    "print(somme(1,2,3,4,5,6,7))"
   ]
  },
  {
   "cell_type": "markdown",
   "metadata": {},
   "source": [
    "## 7/ a)"
   ]
  },
  {
   "cell_type": "markdown",
   "metadata": {},
   "source": [
    "Ajouter @FunctionName sur des fonctions permet de leurs rajouter des fonctionnalités diverses comme par exemple l'ajout d'un timer ou d'un counter en fonction de ce qui est codé dans le decorator\n",
    "\n",
    "## 7/ b)"
   ]
  },
  {
   "cell_type": "code",
   "execution_count": 14,
   "metadata": {},
   "outputs": [
    {
     "name": "stdout",
     "output_type": "stream",
     "text": [
      "<class '__main__.NbFunctionCalls'>\n"
     ]
    }
   ],
   "source": [
    "print(type(somme))"
   ]
  },
  {
   "cell_type": "markdown",
   "metadata": {},
   "source": [
    "## 7/ c)"
   ]
  },
  {
   "cell_type": "code",
   "execution_count": 31,
   "metadata": {},
   "outputs": [
    {
     "name": "stdout",
     "output_type": "stream",
     "text": [
      "3\n"
     ]
    }
   ],
   "source": [
    "print(somme.counter)"
   ]
  },
  {
   "cell_type": "markdown",
   "metadata": {},
   "source": [
    "## 8/\n",
    "Le decorator @NbFunctionCalls permet de rajouter un counter sur la fonction concernée, il permet ainsi de savoir combien de fois la fonction a été appelée\n",
    "\n",
    "## 9/"
   ]
  },
  {
   "cell_type": "code",
   "execution_count": 16,
   "metadata": {},
   "outputs": [],
   "source": [
    "class NbOfAllFunctionCalls:\n",
    "    \n",
    "    counter = 0\n",
    "    \n",
    "    def __init__(self, function):\n",
    "        self.function = function\n",
    "    \n",
    "    def __call__(self, *args):\n",
    "        self.__class__.counter += 1\n",
    "        return self.function(*args)"
   ]
  },
  {
   "cell_type": "code",
   "execution_count": 17,
   "metadata": {},
   "outputs": [],
   "source": [
    "@NbOfAllFunctionCalls\n",
    "def multiply(*args):\n",
    "    result = 1\n",
    "    for number in args:\n",
    "        result *= number\n",
    "    return result"
   ]
  },
  {
   "cell_type": "code",
   "execution_count": 18,
   "metadata": {},
   "outputs": [],
   "source": [
    "@NbOfAllFunctionCalls\n",
    "def divide(*args):\n",
    "    result = 1\n",
    "    for number in args:\n",
    "        result /= number\n",
    "    return result"
   ]
  },
  {
   "cell_type": "code",
   "execution_count": 19,
   "metadata": {},
   "outputs": [
    {
     "data": {
      "text/plain": [
       "0.001388888888888889"
      ]
     },
     "execution_count": 19,
     "metadata": {},
     "output_type": "execute_result"
    }
   ],
   "source": [
    "multiply(1,3,5,8,6)\n",
    "divide(1,3,5,8,6)"
   ]
  },
  {
   "cell_type": "code",
   "execution_count": 20,
   "metadata": {},
   "outputs": [
    {
     "name": "stdout",
     "output_type": "stream",
     "text": [
      "2\n",
      "2\n"
     ]
    }
   ],
   "source": [
    "print(multiply.counter)\n",
    "print(divide.counter)"
   ]
  },
  {
   "cell_type": "markdown",
   "metadata": {},
   "source": [
    "## 13/\n",
    "Le counter est commun à toute les  fonction qui ont NbOfAllFunctionCalls comme decorator"
   ]
  },
  {
   "cell_type": "markdown",
   "metadata": {},
   "source": [
    "## 14/"
   ]
  },
  {
   "cell_type": "code",
   "execution_count": 21,
   "metadata": {},
   "outputs": [],
   "source": [
    "class ResultOfAllFunctionCalls:\n",
    "    \n",
    "    results = {}\n",
    "    \n",
    "    def __init__(self, function):\n",
    "        self.function = function\n",
    "    \n",
    "    def __call__(self, *args):\n",
    "        result = self.function(*args)\n",
    "        self.__class__.results[args] = result\n",
    "        return result"
   ]
  },
  {
   "cell_type": "code",
   "execution_count": 22,
   "metadata": {},
   "outputs": [],
   "source": [
    "@ResultOfAllFunctionCalls\n",
    "def multiply(*args):\n",
    "    result = 1\n",
    "    for number in args:\n",
    "        result *= number\n",
    "    return result"
   ]
  },
  {
   "cell_type": "code",
   "execution_count": 23,
   "metadata": {},
   "outputs": [],
   "source": [
    "@ResultOfAllFunctionCalls\n",
    "def divide(*args):\n",
    "    result = 1\n",
    "    for number in args:\n",
    "        result /= number\n",
    "    return result"
   ]
  },
  {
   "cell_type": "code",
   "execution_count": 24,
   "metadata": {},
   "outputs": [
    {
     "data": {
      "text/plain": [
       "0.001984126984126984"
      ]
     },
     "execution_count": 24,
     "metadata": {},
     "output_type": "execute_result"
    }
   ],
   "source": [
    "multiply(1,3,5,8,6)\n",
    "divide(1,3,7,8,3)"
   ]
  },
  {
   "cell_type": "code",
   "execution_count": 25,
   "metadata": {},
   "outputs": [
    {
     "name": "stdout",
     "output_type": "stream",
     "text": [
      "{(1, 3, 5, 8, 6): 720, (1, 3, 7, 8, 3): 0.001984126984126984}\n",
      "{(1, 3, 5, 8, 6): 720, (1, 3, 7, 8, 3): 0.001984126984126984}\n"
     ]
    }
   ],
   "source": [
    "print(multiply.results)\n",
    "print(divide.results)"
   ]
  },
  {
   "cell_type": "markdown",
   "metadata": {},
   "source": [
    "# Exercice 5"
   ]
  },
  {
   "cell_type": "code",
   "execution_count": 26,
   "metadata": {},
   "outputs": [],
   "source": [
    "class List(list):\n",
    "    \n",
    "    def __add__(self, liste):\n",
    "        if isinstance(liste, List):\n",
    "            new_liste = []\n",
    "            longest_liste = self if (len(self) > len(liste)) else liste\n",
    "            for key, value in enumerate(longest_liste):\n",
    "                self_val = self[key] if key < len(self) else 0\n",
    "                liste_val = liste[key] if key < len(liste) else 0\n",
    "                new_liste.append(self_val + liste_val)\n",
    "            return new_liste\n",
    " \n",
    "        else:\n",
    "            raise Exception(\"La liste passée en paramètre n'est pas du type List\")"
   ]
  },
  {
   "cell_type": "code",
   "execution_count": 27,
   "metadata": {},
   "outputs": [],
   "source": [
    "custom_list = List([2,6,7,9,0,6])\n",
    "liste = List([1,2,3,4])"
   ]
  },
  {
   "cell_type": "code",
   "execution_count": 28,
   "metadata": {},
   "outputs": [
    {
     "name": "stdout",
     "output_type": "stream",
     "text": [
      "[3, 8, 10, 13, 0, 6]\n"
     ]
    }
   ],
   "source": [
    "print(liste + custom_list)"
   ]
  }
 ],
 "metadata": {
  "kernelspec": {
   "display_name": "Python 3",
   "language": "python",
   "name": "python3"
  },
  "language_info": {
   "codemirror_mode": {
    "name": "ipython",
    "version": 3
   },
   "file_extension": ".py",
   "mimetype": "text/x-python",
   "name": "python",
   "nbconvert_exporter": "python",
   "pygments_lexer": "ipython3",
   "version": "3.8.3"
  }
 },
 "nbformat": 4,
 "nbformat_minor": 4
}
